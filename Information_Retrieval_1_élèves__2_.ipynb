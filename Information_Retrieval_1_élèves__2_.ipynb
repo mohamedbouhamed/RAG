{
  "cells": [
    {
      "cell_type": "markdown",
      "metadata": {
        "id": "9Q7bfiWrCOlC"
      },
      "source": [
        "# Information Retrieval 1/2"
      ]
    },
    {
      "cell_type": "markdown",
      "metadata": {
        "id": "NyHQumN3x1vz"
      },
      "source": [
        "Dans cette session, nous allons explorer plusieurs méthodes d'Information Retrieval (IR). L'objectif est de comprendre les intérêts et limites de différentes méthodes.\n",
        "\n",
        "Ces méthodes permettent de sélectionner les passages de texte les plus pertinents à envoyer au modèle génératif. C'est donc une étape essentielle du développement d'un système de RAG, pour permettre de générer une réponse appropriée.\n",
        "\n",
        "Il faudra ensuite séléctionner les meilleures méthodes à intégrer à l'outil de RAG."
      ]
    },
    {
      "cell_type": "markdown",
      "metadata": {
        "id": "eOd7SyyEk_d3"
      },
      "source": [
        "## Load text chunks"
      ]
    },
    {
      "cell_type": "code",
      "execution_count": null,
      "metadata": {
        "id": "wTrsRT9kLYaq"
      },
      "outputs": [],
      "source": [
        "# Passages textuels test\n",
        "\n",
        "text_chunks = [\"\"\"New York is known to be the largest Italian-American population in North America and third largest Italian population outside of Italy, according to the 2000 census. See also Italians in New York City for more info.\"\"\",\n",
        "                \"\"\"Graziano is perhaps the best place in NYC to eat quality fresh pasta, or enjoy a Neapolitan-style pizza.\"\"\",\n",
        "                \"\"\"The Italian wolf is the national animal of Italy,[159] while the national tree is the strawberry tree.[160] The reasons for this are that the Italian wolf, which inhabits the Apennine Mountains and the Western Alps, features prominently in Latin and Italian cultures, such as the legend of the founding of Rome,[161] while the green leaves, white flowers and red berries of the strawberry tree, native to the Mediterranean, recall the colours of the flag.[160]\"\"\",\n",
        "                \"\"\"Italian cuisine has a great variety of different ingredients which are commonly used, ranging from fruits and vegetables to grains to cheeses, meats, and fish. In northern Italy, fish (such as cod, or baccalà), potatoes, rice, corn (maize), sausages, pork, and different types of cheese are the most common ingredients.\"\"\",\n",
        "                \"\"\"A strange italian restaurant. After a long day at work in his New York City office, he wanted to enjoy delicious italian food at the newly opened La Casa di Pasta. But it was actually a nursery, specializing in Italian-themed plants and decorations, with no food in sight. No italian food today, left feeling hungry and deceived, wishing the beautiful garden center had actually been the restaurant of his dreams.\"\"\",\n",
        "               \"\"\"New York City : A brand new italian restaurant, Italian #1, just opened in little Italy.\"\"\"\n",
        "                ]\n",
        "\n",
        "query = \"Do you know any italian restaurant in New York?\""
      ]
    },
    {
      "cell_type": "markdown",
      "metadata": {
        "id": "Ml-4V_W7zsY3"
      },
      "source": [
        "## Utilisation d'embeddings\n",
        "\n",
        "Une méthode d'IR classique consiste à calculer une représentation vectorielle (embedding) de chaque passage et de la question requête.\n",
        "\n",
        "Les passages sont donc classés en fonction d'un score de similarité entre leur représentation et celle de la requête."
      ]
    },
    {
      "cell_type": "code",
      "execution_count": null,
      "metadata": {
        "id": "KAzLiQzf3Jf6",
        "colab": {
          "base_uri": "https://localhost:8080/"
        },
        "outputId": "c29a1a2c-cebf-4f33-d973-54fa97ad511f"
      },
      "outputs": [
        {
          "output_type": "execute_result",
          "data": {
            "text/plain": [
              "[{'text': 'New York is known to be the largest Italian-American population in North America and third largest Italian population outside of Italy, according to the 2000 census. See also Italians in New York City for more info.'},\n",
              " {'text': 'Graziano is perhaps the best place in NYC to eat quality fresh pasta, or enjoy a Neapolitan-style pizza.'},\n",
              " {'text': 'The Italian wolf is the national animal of Italy,[159] while the national tree is the strawberry tree.[160] The reasons for this are that the Italian wolf, which inhabits the Apennine Mountains and the Western Alps, features prominently in Latin and Italian cultures, such as the legend of the founding of Rome,[161] while the green leaves, white flowers and red berries of the strawberry tree, native to the Mediterranean, recall the colours of the flag.[160]'},\n",
              " {'text': 'Italian cuisine has a great variety of different ingredients which are commonly used, ranging from fruits and vegetables to grains to cheeses, meats, and fish. In northern Italy, fish (such as cod, or baccalà), potatoes, rice, corn (maize), sausages, pork, and different types of cheese are the most common ingredients.'},\n",
              " {'text': 'A strange italian restaurant. After a long day at work in his New York City office, he wanted to enjoy delicious italian food at the newly opened La Casa di Pasta. But it was actually a nursery, specializing in Italian-themed plants and decorations, with no food in sight. No italian food today, left feeling hungry and deceived, wishing the beautiful garden center had actually been the restaurant of his dreams.'},\n",
              " {'text': 'New York City : A brand new italian restaurant, Italian #1, just opened in little Italy.'}]"
            ]
          },
          "metadata": {},
          "execution_count": 2
        }
      ],
      "source": [
        "# Liste des passages\n",
        "\n",
        "res_scores = [{'text':text_chunks[i]} for i in range(len(text_chunks))]\n",
        "\n",
        "res_scores"
      ]
    },
    {
      "cell_type": "markdown",
      "metadata": {
        "id": "_NvHyMeCEAvw"
      },
      "source": [
        "## Bag Of Words embeddings"
      ]
    },
    {
      "cell_type": "markdown",
      "metadata": {
        "id": "CJXWrUFGkd-Q"
      },
      "source": [
        "### Questions\n",
        "\n",
        "\n",
        "\n",
        "\n",
        "*   Quel est le principe d'un modèle Bag Of Words (BOW)?"
      ]
    },
    {
      "cell_type": "markdown",
      "metadata": {
        "id": "L-rvL4671Jrg"
      },
      "source": [
        "Réponse :étapes: Tokenisation : La première étape consiste à découper le texte en unités discrètes appelées \"tokens\", généralement des mots. Pendant cette étape, on retire souvent les symboles de ponctuation tels que les virgules, les points, etc.\n",
        "\n",
        "Liste de stop words : On crée une liste de mots courants, souvent appelés \"stop words\" ou mots vides (comme \"le\", \"la\", \"de\", \"à\", \"un\", \"une\", etc.), qui sont peu informatifs et n'apportent pas de valeur à la représentation du texte. Ces mots sont ensuite retirés des tokens.\n",
        "\n",
        "Lemmatisation : Cette étape consiste à ramener chaque mot à sa forme canonique ou de base, en tenant compte de sa morphologie. Par exemple, \"restaurants\" et \"restaurant\" deviendraient tous deux \"restaurant\". Cela permet de réduire la diversité des tokens et de mieux représenter le sens du texte.\n",
        "\n",
        "Modèle Bag of Words (BoW) : Une fois que le texte a été tokenisé, nettoyé des mots vides et lemmatisé, on peut représenter chaque document sous la forme d'un vecteur où chaque dimension correspond à un mot unique du vocabulaire et la valeur de chaque dimension représente la fréquence du mot dans le document. Ce modèle BoW permet de représenter le texte de manière quantitative, mais sans tenir compte de l'ordre des mots."
      ]
    },
    {
      "cell_type": "markdown",
      "metadata": {
        "id": "YoMRrJ-RJrFJ"
      },
      "source": [
        "### Text preprocessing"
      ]
    },
    {
      "cell_type": "code",
      "execution_count": 27,
      "metadata": {
        "id": "Y72RLjxfJs6F"
      },
      "outputs": [],
      "source": [
        "# Fonction pour appliquer un traitement sur le texte\n",
        "# Facultatif\n",
        "stop_list = [\n",
        "    \"a\", \"about\", \"above\", \"after\", \"again\", \"against\", \"all\", \"am\", \"an\", \"and\", \"any\", \"are\", \"aren't\", \"as\", \"at\",\n",
        "    \"be\", \"because\", \"been\", \"before\", \"being\", \"below\", \"between\", \"both\", \"but\", \"by\", \"can't\", \"cannot\", \"could\",\n",
        "    \"couldn't\", \"did\", \"didn't\", \"do\", \"does\", \"doesn't\", \"doing\", \"don't\", \"down\", \"during\", \"each\", \"few\", \"for\",\n",
        "    \"from\", \"further\", \"had\", \"hadn't\", \"has\", \"hasn't\", \"have\", \"haven't\", \"having\", \"he\", \"he'd\", \"he'll\", \"he's\",\n",
        "    \"her\", \"here\", \"here's\", \"hers\", \"herself\", \"him\", \"himself\", \"his\", \"how\", \"how's\", \"i\", \"i'd\", \"i'll\", \"i'm\",\n",
        "    \"i've\", \"if\", \"in\", \"into\", \"is\", \"isn't\", \"it\", \"it's\", \"its\", \"itself\", \"let's\", \"me\", \"more\", \"most\",\n",
        "    \"mustn't\", \"my\", \"myself\", \"no\", \"nor\", \"not\", \"of\", \"off\", \"on\", \"once\", \"only\", \"or\", \"other\", \"ought\", \"our\",\n",
        "    \"ours\", \"ourselves\", \"out\", \"over\", \"own\", \"same\", \"shan't\", \"she\", \"she'd\", \"she'll\", \"she's\", \"should\",\n",
        "    \"shouldn't\", \"so\", \"some\", \"such\", \"than\", \"that\", \"that's\", \"the\", \"their\", \"theirs\", \"them\", \"themselves\",\n",
        "    \"then\", \"there\", \"there's\", \"these\", \"they\", \"they'd\", \"they'll\", \"they're\", \"they've\", \"this\", \"those\", \"through\",\n",
        "    \"to\", \"too\", \"under\", \"until\", \"up\", \"very\", \"was\", \"wasn't\", \"we\", \"we'd\", \"we'll\", \"we're\", \"we've\", \"were\",\n",
        "    \"weren't\", \"what\", \"what's\", \"when\", \"when's\", \"where\", \"where's\", \"which\", \"while\", \"who\", \"who's\", \"whom\", \"why\",\n",
        "    \"why's\", \"with\", \"won't\", \"would\", \"wouldn't\", \"you\", \"you'd\", \"you'll\", \"you're\", \"you've\", \"your\", \"yours\",\n",
        "    \"yourself\", \"yourselves\"\n",
        "]\n",
        "\n",
        "def preprocess_text(input_text):\n",
        "  output_text = input_text.lower()\n",
        "  output_text_mots_non_vides = [x for x in output_text if x not in stop_list]\n",
        "  return output_text"
      ]
    },
    {
      "cell_type": "markdown",
      "metadata": {
        "id": "4MgSuMu7d8Eh"
      },
      "source": [
        "### TF\n",
        "\n",
        "Une première méthode consiste à calculer la fréquence de chaque mot dans les passages. On s'appuie aussi sur un vocabulaire, qui peut classiquement être composé de tous les mots des passages.\n",
        "\n",
        "Un passage est alors représenté par un vecteur de la taille du vocabulaire, où la ième valeur compte le nombre d'occurence du ième mot du vocabulaire dans le passage."
      ]
    },
    {
      "cell_type": "markdown",
      "metadata": {
        "id": "2rg3HbNd4YRu"
      },
      "source": [
        "On peut par exemple utiliser l'objet CountVectorizer de la bibliothèque scikit-learn: https://scikit-learn.org/stable/modules/generated/sklearn.feature_extraction.text.CountVectorizer.html\n",
        "\n",
        "Cet objet peut déjà inclure un certain nombre de prétraitements, examinez la documentation pour déterminer l'utilisation optimale."
      ]
    },
    {
      "cell_type": "code",
      "execution_count": 28,
      "metadata": {
        "id": "LMWsX-sMeAn1"
      },
      "outputs": [],
      "source": [
        "from sklearn.feature_extraction.text import CountVectorizer\n",
        "\n",
        "# Charge un modèle de TF\n",
        "counter = CountVectorizer()\n",
        "\n",
        "# Fit le modèle et calcule les embeddings des passages\n",
        "text_embeddings = counter.fit_transform(text_chunks)\n",
        "\n",
        "# Calcule l'embedding de la query avec le même modèle\n",
        "query_embedding = counter.transform([query])"
      ]
    },
    {
      "cell_type": "code",
      "execution_count": 29,
      "metadata": {
        "id": "9eErTkAwkI10"
      },
      "outputs": [],
      "source": [
        "# Calcul des scores\n",
        "\n",
        "tf_scores = text_embeddings.dot(query_embedding.toarray().flatten())\n",
        "for i in range(len(tf_scores)):\n",
        "  res_scores[i]['tf_score'] = tf_scores[i]"
      ]
    },
    {
      "cell_type": "code",
      "execution_count": 30,
      "metadata": {
        "id": "DIHvk_SD5EPX",
        "colab": {
          "base_uri": "https://localhost:8080/"
        },
        "outputId": "1bfa52fd-d901-41b9-df1c-bfc3bfd218cd"
      },
      "outputs": [
        {
          "output_type": "execute_result",
          "data": {
            "text/plain": [
              "[{'text': 'A strange italian restaurant. After a long day at work in his New York City office, he wanted to enjoy delicious italian food at the newly opened La Casa di Pasta. But it was actually a nursery, specializing in Italian-themed plants and decorations, with no food in sight. No italian food today, left feeling hungry and deceived, wishing the beautiful garden center had actually been the restaurant of his dreams.',\n",
              "  'tf_score': 11},\n",
              " {'text': 'New York is known to be the largest Italian-American population in North America and third largest Italian population outside of Italy, according to the 2000 census. See also Italians in New York City for more info.',\n",
              "  'tf_score': 8},\n",
              " {'text': 'New York City : A brand new italian restaurant, Italian #1, just opened in little Italy.',\n",
              "  'tf_score': 7},\n",
              " {'text': 'The Italian wolf is the national animal of Italy,[159] while the national tree is the strawberry tree.[160] The reasons for this are that the Italian wolf, which inhabits the Apennine Mountains and the Western Alps, features prominently in Latin and Italian cultures, such as the legend of the founding of Rome,[161] while the green leaves, white flowers and red berries of the strawberry tree, native to the Mediterranean, recall the colours of the flag.[160]',\n",
              "  'tf_score': 4},\n",
              " {'text': 'Italian cuisine has a great variety of different ingredients which are commonly used, ranging from fruits and vegetables to grains to cheeses, meats, and fish. In northern Italy, fish (such as cod, or baccalà), potatoes, rice, corn (maize), sausages, pork, and different types of cheese are the most common ingredients.',\n",
              "  'tf_score': 2},\n",
              " {'text': 'Graziano is perhaps the best place in NYC to eat quality fresh pasta, or enjoy a Neapolitan-style pizza.',\n",
              "  'tf_score': 1}]"
            ]
          },
          "metadata": {},
          "execution_count": 30
        }
      ],
      "source": [
        "# Classe les passages selon le score TF\n",
        "\n",
        "sorted(res_scores,key=lambda x: x['tf_score'],reverse=True)[:10]"
      ]
    },
    {
      "cell_type": "markdown",
      "metadata": {
        "id": "yeg3h4y4C9fh"
      },
      "source": [
        "### TFIDF"
      ]
    },
    {
      "cell_type": "code",
      "execution_count": 31,
      "metadata": {
        "id": "Jj3L897FDfPX",
        "colab": {
          "base_uri": "https://localhost:8080/"
        },
        "outputId": "0f2eb8c5-6d34-432d-c9c3-b3b0ccdba46d"
      },
      "outputs": [
        {
          "output_type": "execute_result",
          "data": {
            "text/plain": [
              "[{'text': 'New York City : A brand new italian restaurant, Italian #1, just opened in little Italy.',\n",
              "  'tf_score': 7,\n",
              "  'tfidf_score': 0.6596132444296052},\n",
              " {'text': 'New York is known to be the largest Italian-American population in North America and third largest Italian population outside of Italy, according to the 2000 census. See also Italians in New York City for more info.',\n",
              "  'tf_score': 8,\n",
              "  'tfidf_score': 0.3391215040769731},\n",
              " {'text': 'A strange italian restaurant. After a long day at work in his New York City office, he wanted to enjoy delicious italian food at the newly opened La Casa di Pasta. But it was actually a nursery, specializing in Italian-themed plants and decorations, with no food in sight. No italian food today, left feeling hungry and deceived, wishing the beautiful garden center had actually been the restaurant of his dreams.',\n",
              "  'tf_score': 11,\n",
              "  'tfidf_score': 0.31190627679577376},\n",
              " {'text': 'The Italian wolf is the national animal of Italy,[159] while the national tree is the strawberry tree.[160] The reasons for this are that the Italian wolf, which inhabits the Apennine Mountains and the Western Alps, features prominently in Latin and Italian cultures, such as the legend of the founding of Rome,[161] while the green leaves, white flowers and red berries of the strawberry tree, native to the Mediterranean, recall the colours of the flag.[160]',\n",
              "  'tf_score': 4,\n",
              "  'tfidf_score': 0.05807151127872147},\n",
              " {'text': 'Italian cuisine has a great variety of different ingredients which are commonly used, ranging from fruits and vegetables to grains to cheeses, meats, and fish. In northern Italy, fish (such as cod, or baccalà), potatoes, rice, corn (maize), sausages, pork, and different types of cheese are the most common ingredients.',\n",
              "  'tf_score': 2,\n",
              "  'tfidf_score': 0.044911080167450754},\n",
              " {'text': 'Graziano is perhaps the best place in NYC to eat quality fresh pasta, or enjoy a Neapolitan-style pizza.',\n",
              "  'tf_score': 1,\n",
              "  'tfidf_score': 0.03614195226331344}]"
            ]
          },
          "metadata": {},
          "execution_count": 31
        }
      ],
      "source": [
        "# TODO : Calculer les embeddings avec la méthode TF-IDF*\n",
        "from sklearn.feature_extraction.text import TfidfVectorizer\n",
        "\n",
        "\n",
        "\n",
        "# Initialisation du TfidfVectorizer\n",
        "tfidf_vectorizer = TfidfVectorizer()\n",
        "\n",
        "# Fit le modèle et calcule les embeddings TF-IDF des passages\n",
        "text_tfidf = tfidf_vectorizer.fit_transform(text_chunks)\n",
        "\n",
        "# Calcule l'embedding TF-IDF de la requête avec le même modèle\n",
        "query_tfidf = tfidf_vectorizer.transform([query])\n",
        "\n",
        "# Calcul des scores TF-IDF\n",
        "tfidf_scores = text_tfidf.dot(query_tfidf.T).toarray().flatten()\n",
        "\n",
        "# Affichage des résultats\n",
        "\n",
        "for i in range(len(tfidf_scores)):\n",
        "  res_scores[i]['tfidf_score'] = tfidf_scores[i]\n",
        "sorted(res_scores,key=lambda x: x['tfidf_score'],reverse=True)[:10]"
      ]
    },
    {
      "cell_type": "code",
      "execution_count": 32,
      "metadata": {
        "id": "IC1ADhFWSnlq"
      },
      "outputs": [],
      "source": [
        "# TODO : Calcule les scores TF-IDF"
      ]
    },
    {
      "cell_type": "code",
      "execution_count": 33,
      "metadata": {
        "id": "JCwxNmWydT14"
      },
      "outputs": [],
      "source": [
        "# TODO : Trier les phrases selon les scores TF-IDF et les afficher"
      ]
    },
    {
      "cell_type": "markdown",
      "metadata": {
        "id": "mrd3c73eK8Bd"
      },
      "source": [
        "## Questions\n",
        "\n",
        "\n",
        "\n",
        "*   Quel est l'intérêt du modèle TF-IDF par rapport au calcul TF?\n",
        "*   Quelles sont les limites fondamentales d'un modèle BOW\n",
        "*   (Facultatif) Qu'est ce que la méthode BM25 et quel ajout propose-t-elle par rapport à une TF-IDF?\n",
        "\n",
        "\n",
        "\n"
      ]
    },
    {
      "cell_type": "markdown",
      "metadata": {
        "id": "dzcFQZRQLhQQ"
      },
      "source": [
        "Réponses : TODO"
      ]
    },
    {
      "cell_type": "markdown",
      "metadata": {
        "id": "7ae7tfkhDv3L"
      },
      "source": [
        "## Dense Embedding"
      ]
    },
    {
      "cell_type": "markdown",
      "metadata": {
        "id": "DnoHjzG96dRy"
      },
      "source": [
        "Des modèles plus complexes permettent de créer des embeddings plus efficaces. Beaucoup de modèles existent, et différents leaderboards permettent de les comparer. Par exemple, le leaderboard MTEB de HuggingFace liste de nombreux modèles (https://huggingface.co/spaces/mteb/leaderboard).\n",
        "L'utilisation est ensuite similaire aux modèles BOW étudiés dans la partie précédente."
      ]
    },
    {
      "cell_type": "markdown",
      "metadata": {
        "id": "vFVYpCDZEh_l"
      },
      "source": [
        "### Embedding from HuggingFace"
      ]
    },
    {
      "cell_type": "markdown",
      "metadata": {
        "id": "dIS40gsd1-D3"
      },
      "source": [
        "## Questions\n",
        "\n",
        "*   En observant le leaderboard d'huggingface pour les modèles d'embedding (https://huggingface.co/spaces/mteb/leaderboard), quelles sont les modèles qui semblent les plus pertinents?\n"
      ]
    },
    {
      "cell_type": "markdown",
      "metadata": {
        "id": "N1z_Y3K_3gWW"
      },
      "source": [
        "*   Nous proposons par exemple d'utiliser le modèle *mxbai-embed-large-v1*. Quels sont les avantages de ce modèle?"
      ]
    },
    {
      "cell_type": "markdown",
      "metadata": {
        "id": "7eqOkw33-k2q"
      },
      "source": [
        "Réponses : TODO"
      ]
    },
    {
      "cell_type": "code",
      "execution_count": null,
      "metadata": {
        "id": "SyBpgmJIZlAk",
        "colab": {
          "base_uri": "https://localhost:8080/"
        },
        "outputId": "419c7a08-40a7-4e54-d72d-0fe6b488f02c"
      },
      "outputs": [
        {
          "output_type": "stream",
          "name": "stdout",
          "text": [
            "Collecting sentence-transformers\n",
            "  Downloading sentence_transformers-3.0.0-py3-none-any.whl (224 kB)\n",
            "\u001b[2K     \u001b[90m━━━━━━━━━━━━━━━━━━━━━━━━━━━━━━━━━━━━━━━━\u001b[0m \u001b[32m224.7/224.7 kB\u001b[0m \u001b[31m5.5 MB/s\u001b[0m eta \u001b[36m0:00:00\u001b[0m\n",
            "\u001b[?25hRequirement already satisfied: transformers<5.0.0,>=4.34.0 in /usr/local/lib/python3.10/dist-packages (from sentence-transformers) (4.41.1)\n",
            "Requirement already satisfied: tqdm in /usr/local/lib/python3.10/dist-packages (from sentence-transformers) (4.66.4)\n",
            "Requirement already satisfied: torch>=1.11.0 in /usr/local/lib/python3.10/dist-packages (from sentence-transformers) (2.3.0+cu121)\n",
            "Requirement already satisfied: numpy in /usr/local/lib/python3.10/dist-packages (from sentence-transformers) (1.25.2)\n",
            "Requirement already satisfied: scikit-learn in /usr/local/lib/python3.10/dist-packages (from sentence-transformers) (1.2.2)\n",
            "Requirement already satisfied: scipy in /usr/local/lib/python3.10/dist-packages (from sentence-transformers) (1.11.4)\n",
            "Requirement already satisfied: huggingface-hub>=0.15.1 in /usr/local/lib/python3.10/dist-packages (from sentence-transformers) (0.23.1)\n",
            "Requirement already satisfied: Pillow in /usr/local/lib/python3.10/dist-packages (from sentence-transformers) (9.4.0)\n",
            "Requirement already satisfied: filelock in /usr/local/lib/python3.10/dist-packages (from huggingface-hub>=0.15.1->sentence-transformers) (3.14.0)\n",
            "Requirement already satisfied: fsspec>=2023.5.0 in /usr/local/lib/python3.10/dist-packages (from huggingface-hub>=0.15.1->sentence-transformers) (2023.6.0)\n",
            "Requirement already satisfied: packaging>=20.9 in /usr/local/lib/python3.10/dist-packages (from huggingface-hub>=0.15.1->sentence-transformers) (24.0)\n",
            "Requirement already satisfied: pyyaml>=5.1 in /usr/local/lib/python3.10/dist-packages (from huggingface-hub>=0.15.1->sentence-transformers) (6.0.1)\n",
            "Requirement already satisfied: requests in /usr/local/lib/python3.10/dist-packages (from huggingface-hub>=0.15.1->sentence-transformers) (2.31.0)\n",
            "Requirement already satisfied: typing-extensions>=3.7.4.3 in /usr/local/lib/python3.10/dist-packages (from huggingface-hub>=0.15.1->sentence-transformers) (4.11.0)\n",
            "Requirement already satisfied: sympy in /usr/local/lib/python3.10/dist-packages (from torch>=1.11.0->sentence-transformers) (1.12)\n",
            "Requirement already satisfied: networkx in /usr/local/lib/python3.10/dist-packages (from torch>=1.11.0->sentence-transformers) (3.3)\n",
            "Requirement already satisfied: jinja2 in /usr/local/lib/python3.10/dist-packages (from torch>=1.11.0->sentence-transformers) (3.1.4)\n",
            "Collecting nvidia-cuda-nvrtc-cu12==12.1.105 (from torch>=1.11.0->sentence-transformers)\n",
            "  Using cached nvidia_cuda_nvrtc_cu12-12.1.105-py3-none-manylinux1_x86_64.whl (23.7 MB)\n",
            "Collecting nvidia-cuda-runtime-cu12==12.1.105 (from torch>=1.11.0->sentence-transformers)\n",
            "  Using cached nvidia_cuda_runtime_cu12-12.1.105-py3-none-manylinux1_x86_64.whl (823 kB)\n",
            "Collecting nvidia-cuda-cupti-cu12==12.1.105 (from torch>=1.11.0->sentence-transformers)\n",
            "  Using cached nvidia_cuda_cupti_cu12-12.1.105-py3-none-manylinux1_x86_64.whl (14.1 MB)\n",
            "Collecting nvidia-cudnn-cu12==8.9.2.26 (from torch>=1.11.0->sentence-transformers)\n",
            "  Using cached nvidia_cudnn_cu12-8.9.2.26-py3-none-manylinux1_x86_64.whl (731.7 MB)\n",
            "Collecting nvidia-cublas-cu12==12.1.3.1 (from torch>=1.11.0->sentence-transformers)\n",
            "  Using cached nvidia_cublas_cu12-12.1.3.1-py3-none-manylinux1_x86_64.whl (410.6 MB)\n",
            "Collecting nvidia-cufft-cu12==11.0.2.54 (from torch>=1.11.0->sentence-transformers)\n",
            "  Using cached nvidia_cufft_cu12-11.0.2.54-py3-none-manylinux1_x86_64.whl (121.6 MB)\n",
            "Collecting nvidia-curand-cu12==10.3.2.106 (from torch>=1.11.0->sentence-transformers)\n",
            "  Using cached nvidia_curand_cu12-10.3.2.106-py3-none-manylinux1_x86_64.whl (56.5 MB)\n",
            "Collecting nvidia-cusolver-cu12==11.4.5.107 (from torch>=1.11.0->sentence-transformers)\n",
            "  Using cached nvidia_cusolver_cu12-11.4.5.107-py3-none-manylinux1_x86_64.whl (124.2 MB)\n",
            "Collecting nvidia-cusparse-cu12==12.1.0.106 (from torch>=1.11.0->sentence-transformers)\n",
            "  Using cached nvidia_cusparse_cu12-12.1.0.106-py3-none-manylinux1_x86_64.whl (196.0 MB)\n",
            "Collecting nvidia-nccl-cu12==2.20.5 (from torch>=1.11.0->sentence-transformers)\n",
            "  Using cached nvidia_nccl_cu12-2.20.5-py3-none-manylinux2014_x86_64.whl (176.2 MB)\n",
            "Collecting nvidia-nvtx-cu12==12.1.105 (from torch>=1.11.0->sentence-transformers)\n",
            "  Using cached nvidia_nvtx_cu12-12.1.105-py3-none-manylinux1_x86_64.whl (99 kB)\n",
            "Requirement already satisfied: triton==2.3.0 in /usr/local/lib/python3.10/dist-packages (from torch>=1.11.0->sentence-transformers) (2.3.0)\n",
            "Collecting nvidia-nvjitlink-cu12 (from nvidia-cusolver-cu12==11.4.5.107->torch>=1.11.0->sentence-transformers)\n",
            "  Downloading nvidia_nvjitlink_cu12-12.5.40-py3-none-manylinux2014_x86_64.whl (21.3 MB)\n",
            "\u001b[2K     \u001b[90m━━━━━━━━━━━━━━━━━━━━━━━━━━━━━━━━━━━━━━━━\u001b[0m \u001b[32m21.3/21.3 MB\u001b[0m \u001b[31m55.8 MB/s\u001b[0m eta \u001b[36m0:00:00\u001b[0m\n",
            "\u001b[?25hRequirement already satisfied: regex!=2019.12.17 in /usr/local/lib/python3.10/dist-packages (from transformers<5.0.0,>=4.34.0->sentence-transformers) (2024.5.15)\n",
            "Requirement already satisfied: tokenizers<0.20,>=0.19 in /usr/local/lib/python3.10/dist-packages (from transformers<5.0.0,>=4.34.0->sentence-transformers) (0.19.1)\n",
            "Requirement already satisfied: safetensors>=0.4.1 in /usr/local/lib/python3.10/dist-packages (from transformers<5.0.0,>=4.34.0->sentence-transformers) (0.4.3)\n",
            "Requirement already satisfied: joblib>=1.1.1 in /usr/local/lib/python3.10/dist-packages (from scikit-learn->sentence-transformers) (1.4.2)\n",
            "Requirement already satisfied: threadpoolctl>=2.0.0 in /usr/local/lib/python3.10/dist-packages (from scikit-learn->sentence-transformers) (3.5.0)\n",
            "Requirement already satisfied: MarkupSafe>=2.0 in /usr/local/lib/python3.10/dist-packages (from jinja2->torch>=1.11.0->sentence-transformers) (2.1.5)\n",
            "Requirement already satisfied: charset-normalizer<4,>=2 in /usr/local/lib/python3.10/dist-packages (from requests->huggingface-hub>=0.15.1->sentence-transformers) (3.3.2)\n",
            "Requirement already satisfied: idna<4,>=2.5 in /usr/local/lib/python3.10/dist-packages (from requests->huggingface-hub>=0.15.1->sentence-transformers) (3.7)\n",
            "Requirement already satisfied: urllib3<3,>=1.21.1 in /usr/local/lib/python3.10/dist-packages (from requests->huggingface-hub>=0.15.1->sentence-transformers) (2.0.7)\n",
            "Requirement already satisfied: certifi>=2017.4.17 in /usr/local/lib/python3.10/dist-packages (from requests->huggingface-hub>=0.15.1->sentence-transformers) (2024.2.2)\n",
            "Requirement already satisfied: mpmath>=0.19 in /usr/local/lib/python3.10/dist-packages (from sympy->torch>=1.11.0->sentence-transformers) (1.3.0)\n",
            "Installing collected packages: nvidia-nvtx-cu12, nvidia-nvjitlink-cu12, nvidia-nccl-cu12, nvidia-curand-cu12, nvidia-cufft-cu12, nvidia-cuda-runtime-cu12, nvidia-cuda-nvrtc-cu12, nvidia-cuda-cupti-cu12, nvidia-cublas-cu12, nvidia-cusparse-cu12, nvidia-cudnn-cu12, nvidia-cusolver-cu12, sentence-transformers\n",
            "Successfully installed nvidia-cublas-cu12-12.1.3.1 nvidia-cuda-cupti-cu12-12.1.105 nvidia-cuda-nvrtc-cu12-12.1.105 nvidia-cuda-runtime-cu12-12.1.105 nvidia-cudnn-cu12-8.9.2.26 nvidia-cufft-cu12-11.0.2.54 nvidia-curand-cu12-10.3.2.106 nvidia-cusolver-cu12-11.4.5.107 nvidia-cusparse-cu12-12.1.0.106 nvidia-nccl-cu12-2.20.5 nvidia-nvjitlink-cu12-12.5.40 nvidia-nvtx-cu12-12.1.105 sentence-transformers-3.0.0\n"
          ]
        }
      ],
      "source": [
        "!pip install sentence-transformers"
      ]
    },
    {
      "cell_type": "code",
      "execution_count": null,
      "metadata": {
        "id": "a1jJVVacEkDJ",
        "colab": {
          "base_uri": "https://localhost:8080/"
        },
        "outputId": "ecc24f18-35cf-4708-87a3-edf5c80e5ca4"
      },
      "outputs": [
        {
          "output_type": "stream",
          "name": "stderr",
          "text": [
            "/usr/local/lib/python3.10/dist-packages/huggingface_hub/file_download.py:1132: FutureWarning: `resume_download` is deprecated and will be removed in version 1.0.0. Downloads always resume when possible. If you want to force a new download, use `force_download=True`.\n",
            "  warnings.warn(\n",
            "100%|██████████| 6/6 [00:00<00:00, 20.39it/s]"
          ]
        },
        {
          "output_type": "stream",
          "name": "stdout",
          "text": [
            "Embedding pour le passage 1 : tensor([ 7.8554e-02, -9.1845e-02, -2.5044e-02,  3.3898e-03, -6.9699e-02,\n",
            "        -1.1911e-02,  1.2288e-02, -6.2494e-02, -7.4334e-02, -6.3576e-02,\n",
            "         1.5626e-02, -1.9014e-02, -8.5360e-02,  8.1160e-02, -4.9646e-02,\n",
            "         3.3193e-02,  6.7982e-02,  1.5246e-02,  2.6009e-02,  3.6935e-02,\n",
            "         3.5115e-02, -8.4400e-02,  7.6163e-02,  9.8520e-02,  7.1409e-02,\n",
            "         7.1882e-03,  2.4913e-02,  2.7636e-02, -4.4235e-02,  5.5478e-03,\n",
            "        -6.0270e-02,  6.4816e-02,  7.6343e-02, -1.6064e-03,  3.3594e-02,\n",
            "        -1.9167e-02, -5.6869e-03,  1.6428e-02,  1.1081e-01,  3.0927e-02,\n",
            "        -1.0832e-02,  5.5393e-02,  7.4170e-02,  4.7307e-02,  5.2135e-02,\n",
            "         4.7801e-02, -4.3625e-02,  1.1081e-01,  1.4268e-02,  5.4280e-03,\n",
            "        -4.3228e-02,  3.6737e-02,  2.8978e-02,  5.1619e-02,  1.1578e-03,\n",
            "         6.8749e-04,  9.5054e-02, -7.2324e-02, -7.3231e-02,  2.8735e-02,\n",
            "        -2.9615e-02, -1.7821e-02,  4.4981e-02,  3.8142e-02, -3.8848e-02,\n",
            "         6.5745e-02, -7.9356e-02, -2.6437e-02, -1.1584e-01, -5.2655e-02,\n",
            "         4.6417e-02, -8.0736e-03,  7.6144e-04,  3.9354e-02,  4.0309e-02,\n",
            "        -4.6892e-02, -4.3446e-02,  4.9096e-02, -6.2651e-02,  3.9723e-02,\n",
            "         1.1784e-01,  1.4747e-02,  8.0879e-03,  2.7039e-02,  3.0429e-02,\n",
            "         1.1685e-02, -5.6608e-02,  3.0543e-02, -1.3137e-02, -1.4276e-02,\n",
            "        -6.4017e-02,  1.1615e-01, -5.9759e-02, -8.5979e-03,  7.2090e-02,\n",
            "        -5.5263e-02, -1.7394e-02,  3.5712e-02, -7.3354e-02, -4.0635e-03,\n",
            "         5.8306e-02, -3.3711e-02,  5.5231e-02,  4.9521e-02, -4.1509e-02,\n",
            "        -7.3615e-03,  1.4775e-02, -1.1540e-02,  3.2974e-04,  6.5801e-03,\n",
            "         9.9709e-03,  1.9235e-02, -8.6077e-02,  2.1120e-02,  2.7036e-02,\n",
            "        -4.2531e-02,  8.0609e-02,  9.8597e-02,  2.0006e-02, -4.8941e-02,\n",
            "        -4.2934e-03,  4.3861e-02, -6.3613e-02, -3.7932e-02,  4.7352e-03,\n",
            "         7.4292e-02, -4.7167e-02, -5.8934e-34, -4.3131e-02, -2.1313e-02,\n",
            "         1.8716e-02,  4.8793e-02, -1.9859e-02,  5.2577e-02,  3.4625e-02,\n",
            "        -2.8587e-02, -2.8275e-02, -8.4500e-02, -7.0510e-03, -6.2395e-02,\n",
            "         1.3363e-02,  4.8003e-02,  9.5780e-03,  4.1560e-02,  1.2382e-02,\n",
            "         2.5579e-02, -4.7114e-02, -7.0503e-02,  3.5098e-02, -2.5818e-03,\n",
            "         4.1650e-02, -2.0064e-02, -1.3925e-01, -3.3124e-02, -3.0400e-02,\n",
            "        -1.2852e-02, -8.5447e-02, -5.0920e-02, -8.7080e-03,  4.1869e-02,\n",
            "        -7.1471e-04, -8.1709e-03,  3.8968e-02, -1.6979e-02, -1.0335e-02,\n",
            "        -4.9354e-02,  3.5882e-02,  9.5531e-02, -3.3302e-02,  8.5192e-02,\n",
            "        -4.5333e-03, -2.1141e-02,  3.3757e-02, -2.2259e-02, -1.2809e-02,\n",
            "         7.5156e-02,  1.8211e-02, -5.3847e-02,  1.8590e-02, -8.2863e-03,\n",
            "        -4.3103e-02,  1.3173e-02,  5.1734e-02,  6.6492e-02,  4.5306e-02,\n",
            "         6.2919e-02,  3.3391e-02,  3.6391e-04, -9.3146e-02, -1.3954e-02,\n",
            "         1.0783e-01,  1.9197e-02,  1.8054e-02,  5.8335e-02,  4.3915e-03,\n",
            "         4.1694e-02,  2.3647e-02,  9.7181e-02,  7.2213e-02, -5.2216e-02,\n",
            "         3.2730e-02,  1.2010e-01, -5.1648e-02,  1.2201e-02,  5.3056e-03,\n",
            "         1.8508e-02,  5.2824e-02, -8.5243e-02,  2.3786e-02, -1.1825e-02,\n",
            "         5.0052e-02,  4.2352e-02, -1.6363e-03,  5.0947e-02,  5.0896e-02,\n",
            "        -8.5379e-03,  3.4721e-02, -3.7639e-04,  2.3316e-02, -1.0574e-03,\n",
            "        -3.6383e-02, -2.6620e-02,  1.5419e-02, -7.9528e-34,  3.8947e-03,\n",
            "        -2.6875e-02,  9.5074e-03, -1.6140e-01, -1.0799e-01, -1.0211e-01,\n",
            "        -8.1871e-02,  5.7840e-03,  1.0295e-02,  2.8816e-03,  1.4818e-02,\n",
            "        -2.8473e-02,  1.3715e-01,  2.4884e-02, -2.3222e-02,  1.5152e-02,\n",
            "         3.5490e-02, -9.0616e-03,  6.7842e-03, -4.3473e-02,  2.5384e-02,\n",
            "        -9.7933e-02, -4.5108e-02, -2.8451e-02, -7.9317e-02, -5.7016e-02,\n",
            "        -7.5363e-02,  3.6555e-02, -1.7650e-02, -7.4338e-02, -1.7407e-02,\n",
            "        -8.3120e-03, -3.0959e-02, -6.2792e-02,  2.2883e-02,  7.7831e-02,\n",
            "        -2.4749e-02,  8.8809e-03,  6.2977e-02,  4.0460e-02, -9.4867e-02,\n",
            "        -2.8699e-02,  2.7790e-02, -8.0160e-04,  5.2376e-02, -5.4123e-03,\n",
            "        -1.8159e-02,  3.3137e-02, -1.0613e-01,  3.2852e-02, -2.2634e-02,\n",
            "        -3.2863e-02, -2.1742e-02,  2.4698e-02, -5.6776e-05, -1.8491e-02,\n",
            "        -2.7184e-02, -1.6062e-02, -7.2123e-02, -8.9065e-02,  1.0551e-02,\n",
            "         2.0090e-02, -2.8760e-02,  5.5162e-02, -5.0691e-02, -6.3571e-02,\n",
            "        -9.4241e-02,  1.2380e-02,  4.2903e-02,  2.9617e-02, -1.3864e-02,\n",
            "         3.6274e-02, -1.1993e-01,  1.3412e-02, -1.0081e-01,  2.2893e-02,\n",
            "        -3.4742e-02,  4.1536e-02,  8.2539e-02,  1.7838e-02,  8.8810e-02,\n",
            "        -1.5297e-02, -1.9158e-02,  8.1226e-02, -1.7575e-02,  2.0577e-04,\n",
            "         5.3961e-02, -1.5892e-02,  1.5849e-02, -1.9807e-03,  1.2915e-02,\n",
            "         3.8455e-02, -8.7086e-02, -1.0015e-01, -2.4882e-03, -2.7254e-08,\n",
            "         1.8646e-03, -1.4442e-02,  1.1144e-02,  3.0435e-02, -3.3512e-03,\n",
            "        -8.3747e-03, -2.8647e-02,  6.7560e-02,  6.4727e-02, -7.1143e-03,\n",
            "        -7.1862e-02, -2.6938e-02,  9.3917e-02, -6.4357e-02, -5.3881e-02,\n",
            "         4.7215e-04,  2.3268e-02, -5.7263e-02,  3.4182e-02, -3.4114e-02,\n",
            "         1.0276e-02,  2.7597e-02, -2.9871e-03, -4.3600e-03, -8.1333e-03,\n",
            "        -2.0103e-02,  3.0900e-02, -2.7181e-02, -9.6889e-02,  2.4322e-02,\n",
            "        -1.2611e-02, -1.0006e-01,  4.6142e-02, -6.3498e-02,  5.0805e-02,\n",
            "         5.1625e-02, -9.4049e-02, -6.2117e-02,  1.6990e-02, -1.6546e-01,\n",
            "        -1.1664e-02, -2.7736e-02,  2.3331e-02,  2.4659e-02,  6.7996e-03,\n",
            "        -9.6668e-02, -1.0363e-02, -6.6791e-02,  1.1872e-02,  3.9039e-02,\n",
            "        -2.9792e-02, -6.4788e-02,  7.2771e-02,  2.6675e-02,  4.2303e-02,\n",
            "         5.3866e-02, -3.0635e-02,  1.1547e-01,  5.8419e-02,  5.2742e-02,\n",
            "        -5.7565e-02,  3.8140e-03,  2.5691e-02,  1.4058e-02])\n",
            "Embedding pour le passage 2 : tensor([ 3.9906e-02, -4.7916e-02,  1.1023e-02,  6.3134e-02, -8.8344e-02,\n",
            "        -5.6383e-02, -9.6715e-03, -1.1994e-02, -7.9647e-03, -1.5178e-01,\n",
            "         5.0362e-02, -4.9747e-02, -9.3040e-02,  4.0558e-02,  3.2080e-02,\n",
            "        -2.4865e-02,  1.9640e-01,  2.5806e-02,  7.2223e-02,  1.9515e-02,\n",
            "        -7.4692e-02, -5.5682e-02, -5.1694e-03, -2.8067e-02,  1.0007e-02,\n",
            "         1.4241e-02,  4.0164e-02, -3.8262e-03, -3.3707e-02, -1.6905e-02,\n",
            "        -9.1134e-03, -1.5941e-02,  4.9743e-02, -4.3335e-02,  6.3689e-02,\n",
            "         9.0734e-02, -2.3026e-02, -1.2779e-02,  5.4575e-02,  4.1862e-02,\n",
            "        -3.8744e-03,  3.3259e-02,  6.6703e-02, -3.1181e-03,  2.9104e-02,\n",
            "        -1.0539e-02, -6.2355e-02,  5.7866e-02,  8.5876e-02,  5.6901e-03,\n",
            "        -1.1875e-01, -3.6988e-02,  3.5376e-02, -1.3121e-02,  8.8979e-05,\n",
            "        -1.7669e-03,  3.2344e-02, -1.8206e-02, -2.3826e-02,  1.3161e-02,\n",
            "         3.4815e-03, -6.6391e-02, -4.8905e-02, -5.4812e-03,  2.1855e-02,\n",
            "        -1.6498e-03, -5.1969e-02,  4.0388e-02, -4.0793e-02,  1.7369e-02,\n",
            "         2.6591e-02,  3.0572e-02,  4.6590e-02, -1.0195e-02, -5.6497e-02,\n",
            "         7.0512e-03,  3.9535e-03, -3.9227e-02, -4.6461e-02,  1.9073e-02,\n",
            "         2.9759e-02,  3.0088e-02, -4.7391e-02, -4.7160e-05,  4.9997e-02,\n",
            "         5.9071e-02, -4.6136e-02,  4.5699e-03,  4.4072e-02,  2.8651e-02,\n",
            "         2.6873e-02,  6.9251e-02, -6.4519e-02, -8.3361e-02, -6.6518e-02,\n",
            "         2.3878e-03,  2.5571e-03, -5.7731e-03, -5.1287e-02,  3.3258e-02,\n",
            "        -3.2203e-02, -1.7750e-02, -1.7643e-02, -2.2390e-03, -4.4169e-02,\n",
            "         1.4489e-02,  4.0841e-02,  5.7619e-03, -6.5257e-02,  7.9174e-02,\n",
            "        -2.5134e-02,  2.0165e-02, -4.4937e-02, -3.5790e-02, -3.4188e-02,\n",
            "         1.3834e-03,  6.1272e-02,  7.1118e-03, -9.5556e-03, -4.4077e-02,\n",
            "        -2.4960e-02,  4.5815e-02, -5.1142e-02, -3.4566e-02, -2.8508e-02,\n",
            "        -9.6858e-03, -1.4274e-02, -2.3908e-33, -1.6217e-02,  8.7264e-03,\n",
            "        -4.0313e-03,  3.6958e-02,  5.4023e-02,  1.0152e-02, -1.2379e-02,\n",
            "        -3.9649e-03, -2.4590e-02, -6.6281e-02,  2.1470e-02, -1.3355e-01,\n",
            "         1.3733e-02,  3.1031e-02,  3.3157e-03,  1.4677e-02,  6.5809e-02,\n",
            "        -2.0107e-02,  2.4503e-02,  3.3365e-03,  6.2639e-03, -2.6118e-02,\n",
            "         3.4319e-02, -8.8869e-03, -6.6729e-02, -1.0020e-02, -3.1439e-02,\n",
            "         1.5928e-02, -1.1749e-01, -4.6423e-03, -4.8815e-02,  3.0775e-02,\n",
            "        -6.3143e-02,  1.7304e-02,  8.1741e-02,  4.0655e-02, -5.5252e-02,\n",
            "         2.1432e-02, -3.8037e-02,  2.6136e-02, -6.7207e-02,  9.1060e-02,\n",
            "        -3.4430e-02, -3.4112e-02, -1.2244e-02,  6.5027e-03,  6.6816e-02,\n",
            "         8.9067e-02,  8.4314e-02, -8.0897e-02,  7.3830e-02,  5.0553e-03,\n",
            "        -3.9634e-02, -5.8021e-02, -4.2316e-02, -1.8986e-02,  6.4387e-02,\n",
            "         5.4276e-02,  4.9258e-02,  3.3710e-02,  3.7145e-02,  6.1861e-02,\n",
            "         2.6067e-02, -5.6383e-02,  6.3122e-03,  4.8205e-02, -4.2469e-02,\n",
            "        -9.8855e-03,  5.0252e-02,  3.6601e-02,  2.4117e-02,  3.4915e-02,\n",
            "         9.2976e-02,  9.8088e-02, -8.3363e-02,  1.0212e-02, -6.6677e-02,\n",
            "        -4.2772e-02,  1.2486e-01, -2.5266e-02,  7.7377e-02, -1.7368e-02,\n",
            "         5.5675e-02, -5.1694e-03, -8.0762e-03,  4.1689e-02,  3.7724e-02,\n",
            "         1.3538e-02,  3.7469e-03,  1.6311e-02, -7.4080e-03, -5.0679e-02,\n",
            "        -2.8604e-02, -4.0617e-02, -4.8143e-02,  3.5390e-34,  1.8462e-02,\n",
            "        -7.3828e-02, -5.6608e-03, -3.0291e-02, -1.1664e-01,  2.6295e-02,\n",
            "        -1.0625e-01, -3.0130e-02, -1.1419e-02,  2.3084e-02, -1.2365e-02,\n",
            "         3.1371e-02,  1.0969e-01,  9.0812e-03,  2.6307e-04,  1.0103e-01,\n",
            "        -4.3694e-02, -1.5968e-02, -1.5240e-02, -6.3535e-02,  5.3320e-02,\n",
            "         3.3016e-02, -3.6871e-02,  1.6779e-03, -7.5138e-02,  2.3241e-02,\n",
            "        -2.3522e-04,  7.9103e-02, -7.6793e-02,  4.0210e-02, -7.2135e-02,\n",
            "        -3.3262e-02, -2.5743e-02, -6.6880e-02,  8.0911e-02,  1.9160e-01,\n",
            "        -4.2077e-02, -1.4555e-02,  8.2858e-02,  9.3090e-02, -7.3361e-02,\n",
            "        -1.0950e-02,  4.1295e-02,  8.8467e-02,  1.7855e-02, -5.0319e-02,\n",
            "        -5.8890e-02, -6.7139e-03, -5.7689e-02, -3.0563e-02,  3.7434e-02,\n",
            "        -6.0577e-02, -6.8284e-02,  1.9044e-02,  2.8573e-03,  6.6870e-02,\n",
            "        -2.0118e-02,  9.2752e-03, -3.6848e-02, -1.0200e-01, -8.0865e-02,\n",
            "        -2.7959e-04, -6.4344e-02,  9.1008e-02,  2.9221e-02,  6.5025e-02,\n",
            "        -3.1740e-02, -8.4894e-02, -5.6116e-02,  6.1721e-02, -3.9609e-02,\n",
            "         7.7623e-02,  8.3354e-03,  2.9616e-02, -1.2226e-01, -6.2287e-02,\n",
            "         5.4934e-02,  3.2842e-02, -2.2975e-02,  5.0634e-02,  1.6041e-02,\n",
            "        -1.6473e-02, -3.3424e-02,  4.7757e-02,  5.8630e-02, -1.1246e-02,\n",
            "         4.8255e-03, -7.8713e-02, -1.6083e-02,  6.4606e-02,  2.9266e-02,\n",
            "         6.4443e-02, -2.5610e-02, -1.8270e-02,  1.1282e-01, -2.1527e-08,\n",
            "         5.5778e-02, -5.7296e-02, -4.9614e-02,  7.3795e-02, -1.5635e-02,\n",
            "        -9.5138e-02, -9.0609e-02, -9.7875e-02,  4.4117e-02,  6.4074e-02,\n",
            "        -4.6875e-02,  4.7346e-02, -3.3340e-02, -2.9355e-02, -6.9065e-02,\n",
            "         2.7758e-02,  6.8404e-02,  7.7475e-03, -2.1507e-02,  5.0656e-02,\n",
            "         5.5577e-02,  4.1164e-02, -3.4873e-03, -5.6706e-02,  2.1395e-02,\n",
            "        -6.5564e-02,  2.5667e-02,  4.9472e-03,  4.3809e-02, -1.5978e-02,\n",
            "        -2.8918e-03, -2.7393e-02,  5.7840e-02, -8.2452e-02,  4.8776e-02,\n",
            "         1.8757e-02, -5.1592e-02, -6.9306e-02, -1.8886e-02, -4.8290e-02,\n",
            "        -4.5704e-02, -4.0522e-02, -4.1013e-02,  5.3258e-03, -4.6326e-02,\n",
            "         4.1138e-03, -5.4290e-02, -4.7649e-02, -1.5532e-02,  7.5929e-02,\n",
            "        -1.8668e-02, -5.5450e-03,  1.1649e-01,  6.8096e-02,  4.1124e-02,\n",
            "         6.0621e-02, -5.0256e-02,  5.0835e-02, -4.7629e-05,  8.4369e-02,\n",
            "         1.5945e-02,  5.5403e-02,  1.5347e-02, -3.4151e-02])\n",
            "Embedding pour le passage 3 : tensor([-5.7242e-03,  3.6187e-02,  3.2094e-02,  9.7765e-02,  7.6914e-03,\n",
            "         1.4823e-02, -6.7923e-03, -1.5561e-02, -2.5799e-02, -4.1887e-03,\n",
            "         6.7181e-02, -5.9513e-02, -3.2662e-02,  7.5186e-02, -4.1202e-02,\n",
            "         3.6950e-02, -5.1354e-02,  3.8874e-02,  1.6977e-02,  5.2146e-02,\n",
            "         5.6583e-02, -4.6967e-02,  1.6110e-02,  5.4221e-02,  2.1988e-02,\n",
            "        -1.8944e-02, -2.3198e-02,  1.6409e-02,  1.4124e-03, -3.9575e-02,\n",
            "        -4.9450e-03,  6.3140e-02,  6.5092e-02, -3.4381e-03, -1.3599e-02,\n",
            "        -7.0660e-02,  9.7870e-02, -1.2558e-01,  1.2524e-01,  2.4117e-02,\n",
            "        -3.9696e-02,  3.3450e-02,  9.3876e-02,  8.0641e-02, -1.2255e-02,\n",
            "         6.5329e-02, -2.8534e-02,  7.3841e-02, -7.4604e-03,  1.5472e-04,\n",
            "         2.7484e-02, -2.0165e-02,  4.5350e-02, -5.8964e-02, -7.5552e-02,\n",
            "         4.4652e-02,  8.0762e-02, -4.0302e-02,  5.0227e-02,  3.6898e-02,\n",
            "         3.8888e-02,  2.0864e-02,  2.9776e-02,  7.5372e-02, -1.7071e-02,\n",
            "         7.0312e-03, -1.1717e-01, -6.7776e-02, -7.1781e-02, -1.0595e-01,\n",
            "         5.3252e-03, -7.9669e-02,  7.3797e-03, -3.2474e-02, -2.8781e-02,\n",
            "         1.2563e-02,  3.1492e-02,  5.6544e-02, -7.9703e-02,  7.5850e-03,\n",
            "         7.7609e-03,  7.7086e-02, -2.0306e-02,  8.0278e-03,  6.0992e-02,\n",
            "         4.6715e-02, -3.1886e-02,  5.8543e-02, -7.5835e-02,  2.6706e-02,\n",
            "        -1.4667e-02, -1.9558e-02,  8.7206e-04, -6.1717e-04, -4.9069e-03,\n",
            "         8.7150e-03, -4.7680e-03,  6.6340e-02, -2.3398e-02,  4.4314e-03,\n",
            "         2.5695e-02, -3.2804e-02,  4.0719e-02,  3.1751e-03, -3.8762e-02,\n",
            "        -1.2658e-03, -4.2394e-02, -1.1361e-02, -2.9821e-03,  1.5204e-02,\n",
            "        -1.2215e-02, -1.3215e-02, -6.5653e-02,  5.4297e-02, -1.3342e-03,\n",
            "         4.7397e-02,  2.0468e-02, -2.1417e-02,  1.3358e-02,  2.5186e-02,\n",
            "         1.8436e-02,  4.4142e-02, -1.3723e-02, -3.2192e-03,  7.8686e-02,\n",
            "         1.4575e-02, -3.7419e-02, -2.9911e-33, -8.6239e-03,  9.8985e-03,\n",
            "        -5.5670e-02, -9.2061e-02,  5.0765e-02,  4.8159e-02, -1.1563e-02,\n",
            "        -3.4018e-02, -2.3399e-02, -3.3827e-02, -1.1260e-01, -6.7863e-04,\n",
            "         1.3962e-02, -3.7828e-02,  8.1274e-04,  3.2789e-02, -1.7247e-03,\n",
            "        -2.8815e-02,  2.6430e-02, -4.0026e-03,  9.4902e-03,  3.1986e-02,\n",
            "         3.6978e-02, -3.7722e-02, -3.4617e-02,  9.3954e-03,  9.7701e-03,\n",
            "         9.5080e-03, -2.5166e-02, -3.1942e-02,  5.9101e-02, -6.5769e-02,\n",
            "         8.3905e-03,  9.6685e-03,  1.3134e-02, -3.1956e-02, -4.0284e-02,\n",
            "        -9.9268e-02, -2.3020e-02,  9.3808e-02, -2.5328e-03,  1.0054e-01,\n",
            "         5.1929e-03,  5.2853e-02,  4.3329e-02, -3.0635e-03, -5.2061e-02,\n",
            "         7.9646e-03, -2.3668e-02, -9.7950e-02, -4.3063e-02,  4.6139e-02,\n",
            "         7.0348e-02,  3.5321e-02,  2.3822e-02,  2.7299e-02,  1.0014e-01,\n",
            "         5.2935e-02, -7.8262e-02, -5.4413e-03,  1.0435e-01,  3.2950e-02,\n",
            "         6.1024e-02,  1.5876e-03,  5.3966e-02,  1.5065e-01,  1.3333e-02,\n",
            "         5.3097e-02,  3.4772e-02, -2.2018e-02,  4.9201e-02, -2.6983e-02,\n",
            "         3.4051e-02, -1.3974e-02, -5.4186e-02,  7.8385e-03,  3.6472e-02,\n",
            "        -3.9487e-02, -4.6642e-02, -7.0293e-02, -8.0897e-02, -1.1154e-02,\n",
            "        -1.7186e-02,  1.2013e-03,  7.7604e-04,  1.0913e-02, -9.4486e-03,\n",
            "         2.1556e-02,  2.8589e-02, -6.1847e-02, -1.1401e-02, -5.1528e-02,\n",
            "        -6.0756e-02, -9.2009e-02,  4.2556e-02,  3.0759e-33, -1.0008e-02,\n",
            "         1.4412e-02,  1.3870e-01, -4.6941e-02, -6.6099e-02, -3.4180e-02,\n",
            "        -1.1446e-01, -6.9422e-02, -5.4555e-02,  4.8321e-02,  2.4810e-04,\n",
            "         7.4339e-03, -8.4557e-03,  2.5093e-02,  2.7559e-02,  7.9174e-02,\n",
            "         2.8879e-02,  7.7168e-02, -8.3611e-03, -4.1301e-02, -1.0831e-01,\n",
            "         4.4149e-02, -1.2426e-01, -3.3258e-02, -6.7455e-02,  2.0260e-02,\n",
            "        -3.7966e-03, -4.6345e-02,  6.5046e-02, -1.3730e-01, -1.0143e-02,\n",
            "        -2.0239e-02, -5.8854e-03, -1.1281e-01,  1.0846e-01,  6.3185e-02,\n",
            "        -3.7347e-02, -5.2984e-02,  1.0165e-01,  1.0250e-01, -4.4612e-02,\n",
            "        -1.2832e-02, -6.2586e-03,  5.7032e-03,  2.8550e-03, -6.8839e-03,\n",
            "        -1.0509e-01,  2.3397e-02, -7.4870e-02,  8.4985e-02,  1.4733e-02,\n",
            "        -1.1102e-03,  5.0291e-02, -2.7110e-02, -2.6560e-02, -5.6089e-02,\n",
            "         2.7660e-03,  5.8889e-02, -1.2761e-04, -3.4649e-02,  1.7306e-02,\n",
            "        -2.0105e-02, -7.3095e-02,  2.3197e-02, -6.5913e-02, -3.8597e-02,\n",
            "        -1.3362e-01,  6.4730e-02,  1.7471e-03,  7.5503e-03, -2.2273e-02,\n",
            "         1.4732e-02, -8.2307e-02,  5.8097e-02, -2.7688e-02,  6.9333e-02,\n",
            "         2.7373e-02, -1.3810e-02,  6.8958e-02,  3.4370e-03, -6.0377e-02,\n",
            "        -6.3328e-02, -2.8600e-02,  9.7771e-02,  6.7293e-02, -6.7340e-02,\n",
            "        -2.2617e-02,  3.1532e-02,  6.7160e-02,  1.9541e-03,  1.6245e-02,\n",
            "         7.0774e-02,  5.9661e-03, -1.9809e-02,  5.4763e-02, -3.8073e-08,\n",
            "        -1.8340e-02, -3.6144e-02,  1.1910e-02,  7.7473e-02,  4.9589e-02,\n",
            "         5.3685e-03, -2.0329e-02, -4.3216e-02, -3.6728e-02,  5.6759e-02,\n",
            "        -9.0429e-02,  1.0025e-02, -6.4550e-02, -3.7794e-02,  1.6304e-02,\n",
            "         4.5657e-02, -1.1425e-02,  1.4371e-02,  8.0854e-02,  1.8212e-01,\n",
            "         1.1470e-02, -1.5437e-02, -7.1883e-02, -1.3722e-02, -5.7214e-02,\n",
            "        -8.9840e-02,  1.2528e-02,  4.0740e-02, -4.0463e-02,  1.1279e-02,\n",
            "         7.9279e-02,  2.2988e-02,  3.2274e-02, -8.5514e-02, -3.3425e-02,\n",
            "         4.3003e-02, -3.6958e-02, -4.8566e-02, -2.7649e-03, -1.2363e-01,\n",
            "         3.0994e-02, -1.2335e-03, -1.3663e-02,  2.8870e-03, -1.1164e-02,\n",
            "        -3.2181e-02,  1.6691e-02, -7.9972e-03, -6.2549e-03, -1.4890e-02,\n",
            "        -8.7408e-02,  2.2354e-02,  2.3235e-02,  3.1700e-02, -7.3196e-03,\n",
            "        -2.0307e-02,  5.4411e-02,  3.4537e-02,  1.3217e-01,  6.3127e-02,\n",
            "         1.1603e-02, -6.1885e-02,  4.6719e-02, -1.8904e-02])\n",
            "Embedding pour le passage 4 : tensor([-3.5879e-02, -3.3829e-02,  2.4765e-02,  9.6763e-03, -7.5144e-02,\n",
            "         1.3533e-02,  8.3033e-03,  7.4443e-03, -1.3313e-02, -1.1324e-01,\n",
            "         9.4291e-02, -4.5809e-02, -8.2652e-02,  6.8632e-02,  8.4130e-03,\n",
            "        -2.1483e-02,  1.0949e-01,  8.9473e-02,  1.1962e-02,  3.2460e-04,\n",
            "        -1.3921e-02,  4.4950e-03,  9.0593e-03,  4.6680e-02,  4.1424e-02,\n",
            "         2.8041e-02,  4.4573e-02,  4.9325e-02, -4.7836e-02, -1.9998e-02,\n",
            "        -4.5896e-02,  6.6026e-02,  3.8849e-02, -6.0569e-02, -9.0367e-03,\n",
            "         1.3453e-02,  1.2411e-02, -7.7124e-02,  8.6820e-02,  3.5312e-03,\n",
            "         3.0945e-04,  2.8493e-02,  6.8155e-02,  3.3086e-02,  4.7154e-02,\n",
            "         2.1535e-02, -4.1275e-02,  3.6383e-02, -2.1078e-02, -5.0537e-02,\n",
            "        -9.1001e-02,  1.9268e-02, -4.0006e-04,  1.4278e-02, -1.1542e-02,\n",
            "        -1.9685e-02, -3.3529e-03, -2.4507e-02, -2.4856e-02,  3.3906e-02,\n",
            "        -5.3320e-02, -2.2070e-02,  5.5550e-03, -1.1772e-02, -9.0227e-02,\n",
            "         2.5509e-02, -7.7580e-02,  9.1461e-03, -9.6813e-02, -1.2555e-02,\n",
            "        -2.3615e-02, -8.3617e-02,  5.8410e-02,  1.7347e-02, -4.7591e-02,\n",
            "         4.4365e-02,  5.0369e-02, -8.1248e-02,  6.7936e-03, -3.6722e-02,\n",
            "         8.5617e-03,  9.1668e-03, -3.3949e-02,  4.1194e-02,  9.3969e-02,\n",
            "         3.7749e-02, -7.4205e-03,  4.6930e-02, -4.5533e-03,  2.6821e-02,\n",
            "         2.2723e-02,  2.0671e-02, -1.7661e-02, -8.9461e-02,  8.0585e-02,\n",
            "        -4.2872e-02,  2.1956e-03,  3.4510e-03,  1.5068e-02, -2.1985e-02,\n",
            "         2.9400e-02, -1.1477e-01,  7.9168e-02, -1.2135e-02, -2.9930e-02,\n",
            "         3.5990e-02,  9.4293e-02, -3.1142e-02,  3.3579e-02,  3.0365e-02,\n",
            "        -1.0511e-01,  3.4857e-03, -1.1473e-01, -9.4069e-02, -7.0539e-02,\n",
            "        -1.5585e-02,  6.0433e-02, -1.0094e-02, -3.4899e-03,  1.4792e-02,\n",
            "        -5.8953e-02, -1.4552e-02,  5.0070e-02, -1.1174e-02,  1.5303e-02,\n",
            "         3.2216e-02,  9.5560e-03, -3.1598e-33, -3.3455e-02, -7.4390e-03,\n",
            "        -2.3150e-02,  2.0945e-04,  4.0803e-02,  5.1962e-02, -1.8175e-02,\n",
            "        -1.1377e-02,  3.4378e-02, -4.1685e-02, -6.3162e-02,  1.4893e-02,\n",
            "        -6.8388e-02,  7.5499e-02,  3.4767e-02,  4.1859e-02,  5.2930e-02,\n",
            "        -1.0373e-02,  1.6733e-02, -4.7102e-02,  9.6786e-03, -5.1081e-02,\n",
            "         3.2820e-02, -4.4816e-03, -6.7565e-02,  3.9929e-03, -7.7939e-03,\n",
            "        -2.8663e-02, -8.6646e-02, -3.0611e-02,  4.7003e-02,  2.5219e-02,\n",
            "        -3.6493e-02, -4.7198e-02, -2.7880e-02,  6.0897e-02, -7.5158e-02,\n",
            "         1.1209e-02, -1.5767e-02,  8.4397e-02, -4.7949e-03,  1.6268e-02,\n",
            "        -1.8167e-02,  1.1948e-02, -4.1198e-02, -7.7775e-02, -2.1529e-02,\n",
            "         6.9244e-02,  8.3019e-03, -1.0150e-01,  8.1142e-02, -3.2619e-02,\n",
            "         6.6332e-03,  2.4228e-02,  1.4994e-02,  1.1162e-01,  4.8075e-03,\n",
            "         2.4822e-03, -2.4501e-02,  1.9867e-02, -2.5342e-02,  5.7341e-02,\n",
            "         3.7656e-02, -4.0913e-02,  2.8618e-02,  8.2181e-02,  7.7154e-04,\n",
            "         2.2941e-02, -5.6174e-03,  2.6270e-02,  4.2006e-02, -1.0699e-01,\n",
            "         1.0953e-02,  3.6081e-02, -7.9035e-02,  4.2616e-02,  1.9848e-02,\n",
            "        -7.9947e-02,  2.5055e-02, -1.8866e-02,  4.8708e-02, -5.4149e-02,\n",
            "         3.2102e-02,  1.7430e-02, -1.0333e-01,  8.5133e-02,  3.3307e-03,\n",
            "        -5.3463e-02,  9.6817e-02,  3.9326e-03, -2.3126e-02, -6.9756e-02,\n",
            "        -2.8980e-02, -4.4863e-02,  8.6161e-03,  1.6656e-33,  5.3242e-03,\n",
            "         1.5179e-02,  1.2848e-02, -4.5520e-02, -6.0535e-02, -9.6673e-02,\n",
            "        -6.1724e-02, -6.7535e-02,  6.8574e-02,  5.2846e-02,  2.9352e-03,\n",
            "        -6.1020e-02,  5.3604e-02, -1.0565e-01, -4.0168e-02,  1.3786e-01,\n",
            "        -1.3662e-04,  1.0097e-01,  6.6562e-02, -6.5520e-02, -2.0873e-02,\n",
            "        -2.2536e-02,  5.8669e-03, -4.5078e-02, -5.7762e-02,  3.1146e-02,\n",
            "         3.4649e-03,  3.1396e-02,  1.1034e-02, -1.0010e-01, -2.1190e-02,\n",
            "        -8.5250e-02,  8.7853e-02, -9.0088e-02,  4.4973e-02,  3.2278e-02,\n",
            "        -2.3005e-02, -2.9583e-03,  8.8911e-02,  3.5391e-02, -4.7342e-02,\n",
            "         1.0924e-03,  8.3952e-02,  7.4726e-02,  8.2980e-03,  2.2034e-02,\n",
            "         1.4700e-02, -2.8287e-02, -6.8453e-02, -1.3599e-02,  6.8879e-02,\n",
            "        -5.4278e-02, -2.0936e-02, -4.3068e-02,  2.6421e-03,  2.2944e-02,\n",
            "         2.2849e-03,  2.5640e-02, -6.3896e-02, -6.0968e-02,  4.0792e-02,\n",
            "         2.7342e-02,  2.4943e-02,  2.9379e-02,  4.4233e-02, -3.3270e-03,\n",
            "        -6.4949e-02, -1.0231e-01, -7.6502e-03,  8.4658e-02, -1.9605e-02,\n",
            "         2.9011e-02, -1.3373e-02,  6.0433e-02, -7.4058e-02,  3.3161e-02,\n",
            "        -4.4583e-02,  1.5865e-02,  7.3253e-02,  3.3194e-02,  6.9102e-02,\n",
            "        -9.3918e-02, -4.8691e-02,  5.4077e-02, -2.2348e-02,  8.1785e-03,\n",
            "        -7.5690e-03,  1.7849e-02,  6.5464e-02,  4.8372e-02, -2.6669e-02,\n",
            "         4.0565e-02,  4.5639e-02,  4.2990e-02,  4.6979e-02, -3.4298e-08,\n",
            "         1.1439e-01, -6.7657e-02, -2.7020e-02,  9.4992e-02, -3.0524e-02,\n",
            "        -2.9668e-02, -3.6949e-02,  1.2811e-02,  7.6695e-02,  3.8811e-03,\n",
            "        -1.4627e-01,  8.0533e-02, -2.0141e-02, -6.5930e-02, -6.3598e-04,\n",
            "         8.9380e-02,  2.1757e-02, -6.1410e-02,  2.9901e-02,  2.1017e-02,\n",
            "         6.3373e-02,  3.1917e-02,  8.1416e-03, -3.2934e-02, -6.7418e-04,\n",
            "        -7.7710e-02, -4.1843e-03, -3.6208e-03, -7.8673e-04,  5.5960e-02,\n",
            "        -1.0445e-02, -6.4679e-02,  3.6609e-02, -7.6690e-02,  2.7236e-03,\n",
            "         1.0260e-01, -9.1166e-02, -1.3220e-01, -4.0746e-02, -6.3210e-02,\n",
            "         3.8843e-03, -7.3977e-02,  1.4598e-02,  4.7367e-04, -4.5486e-02,\n",
            "        -2.6824e-02, -2.6671e-02,  2.9442e-02, -2.2253e-02,  3.0897e-02,\n",
            "        -7.4519e-02,  2.0270e-02,  3.6879e-02,  2.6993e-03,  3.1929e-02,\n",
            "         9.8775e-02,  1.1595e-01, -3.3072e-03,  1.1780e-01, -1.1341e-02,\n",
            "        -5.4818e-02,  5.9901e-02,  5.3928e-02, -1.1029e-02])\n",
            "Embedding pour le passage 5 : tensor([-2.1538e-02,  1.8649e-02,  3.1720e-03,  5.6257e-02, -4.3932e-02,\n",
            "        -4.5442e-02,  1.8656e-02, -7.3276e-02,  1.4497e-02, -7.7145e-02,\n",
            "         5.2468e-02, -3.0156e-02, -3.1439e-02,  1.2490e-03,  1.1152e-02,\n",
            "        -4.5849e-02,  9.9641e-02,  2.0086e-02,  4.2059e-02,  4.3497e-02,\n",
            "        -2.5261e-02,  1.5904e-02, -2.0716e-02,  2.1531e-02,  3.3178e-02,\n",
            "         1.1361e-01,  2.7718e-02,  3.2982e-02, -2.4291e-02, -4.7013e-02,\n",
            "         3.1401e-03,  9.9839e-02,  3.6221e-02, -3.7543e-02,  7.1999e-02,\n",
            "         3.9556e-02,  5.3189e-02, -1.0391e-01,  8.6553e-02, -4.6436e-02,\n",
            "        -5.9296e-03,  1.1918e-02,  8.3093e-02,  5.5404e-02,  2.6706e-02,\n",
            "         1.4902e-02, -5.7169e-02,  1.7488e-02,  8.4417e-02, -9.8734e-02,\n",
            "        -7.2671e-02, -1.8916e-02,  3.5455e-03, -4.1561e-02, -5.6864e-02,\n",
            "         5.6585e-02,  5.2558e-02,  9.1651e-03,  2.0456e-02,  2.0142e-02,\n",
            "         7.2689e-03, -7.1525e-03,  3.1064e-02,  4.9133e-02,  9.4502e-03,\n",
            "        -3.7192e-02, -9.4560e-02, -3.1604e-02, -4.9593e-02, -7.4333e-02,\n",
            "         5.2317e-02, -3.7185e-02,  1.0415e-01, -2.3765e-02, -2.1479e-03,\n",
            "        -2.7991e-03, -2.5716e-02, -1.0214e-02, -8.2456e-02, -1.5899e-02,\n",
            "         2.9311e-02,  7.3958e-03,  2.7366e-02,  1.0313e-02, -7.4696e-02,\n",
            "         6.6605e-02, -1.3087e-02, -3.4023e-02,  6.2710e-02, -1.3023e-02,\n",
            "         5.9051e-04, -2.1419e-02, -8.4153e-02, -4.0073e-02, -1.7514e-02,\n",
            "        -4.2717e-03, -6.1969e-02, -3.2540e-02, -6.8214e-02,  6.7521e-02,\n",
            "         3.1345e-02,  3.4899e-02,  3.5982e-02,  2.5897e-02,  9.3720e-04,\n",
            "        -1.5214e-02, -1.1461e-02,  4.0603e-02, -4.5446e-02,  9.4629e-03,\n",
            "        -5.9442e-02,  5.0892e-04,  1.4865e-02, -3.8296e-02, -9.4765e-02,\n",
            "        -3.7893e-02,  9.4040e-02, -7.2747e-02,  4.6141e-02, -2.7238e-02,\n",
            "         2.5774e-02,  1.8654e-02, -3.8836e-02,  1.2007e-02, -1.2054e-01,\n",
            "        -1.2704e-02, -8.5652e-03,  2.8706e-33, -3.8471e-02, -7.6706e-02,\n",
            "         8.9892e-02,  4.1006e-03,  1.8561e-01,  2.1243e-02, -4.0486e-02,\n",
            "        -1.7133e-02,  1.9023e-02, -7.4083e-02,  1.5202e-02, -8.4558e-02,\n",
            "        -2.7196e-03, -6.9041e-03,  6.7868e-03,  3.2309e-02, -4.0571e-02,\n",
            "         5.2065e-03,  1.1483e-01, -1.5528e-03,  3.4932e-02,  1.5592e-02,\n",
            "         9.6473e-03,  1.5166e-02, -2.1588e-02,  8.4099e-02, -1.2489e-02,\n",
            "        -5.7922e-03, -4.9132e-02,  3.0873e-03, -2.0725e-02,  2.1658e-02,\n",
            "        -8.5597e-03,  1.8843e-03, -7.6394e-04, -4.8861e-02,  3.1323e-03,\n",
            "        -7.1584e-02, -8.1669e-02,  3.6012e-02, -3.7009e-02,  2.8856e-02,\n",
            "        -6.7509e-03,  2.2597e-02, -3.0754e-02,  3.1199e-02,  4.0904e-02,\n",
            "         6.6772e-02,  3.1842e-02, -1.3555e-02, -4.4028e-03, -2.0555e-02,\n",
            "        -1.9487e-02, -9.2808e-04, -4.8272e-02,  4.5463e-02,  3.2005e-02,\n",
            "         3.5759e-02,  6.5316e-02, -2.9303e-02,  5.2399e-02,  7.1408e-02,\n",
            "        -5.6438e-02, -7.3773e-03, -3.8972e-02,  4.6260e-03, -1.3131e-02,\n",
            "        -1.8509e-02,  7.2680e-02,  3.9133e-02, -1.1088e-02, -1.1077e-01,\n",
            "        -9.9500e-03,  2.4259e-02, -4.4027e-02,  1.9016e-03, -2.7396e-02,\n",
            "        -2.6333e-02, -2.9101e-02, -4.4510e-02,  1.2283e-01, -3.8270e-02,\n",
            "         5.7243e-02,  3.8320e-02, -2.9197e-02,  1.0100e-01, -1.6339e-02,\n",
            "        -4.2609e-02, -4.1775e-02,  8.6558e-02, -5.3880e-02, -2.0925e-02,\n",
            "         5.3752e-02, -2.7951e-02, -5.1873e-02, -3.9678e-33, -2.3153e-02,\n",
            "        -3.8930e-02, -5.2145e-02,  4.5010e-02, -3.1326e-02, -9.1879e-02,\n",
            "        -1.4240e-01, -4.6937e-02,  5.4953e-02,  2.9330e-02, -1.6820e-02,\n",
            "         5.6201e-02,  9.8488e-02, -3.9133e-03, -6.6773e-02,  1.5032e-01,\n",
            "         9.3975e-02, -1.6616e-02, -6.8150e-02,  3.0073e-02,  6.3803e-03,\n",
            "         6.1083e-02, -3.4526e-02, -3.7184e-02, -6.4690e-02,  5.5372e-02,\n",
            "         4.5667e-02,  4.8648e-02, -9.6925e-02, -7.9365e-02, -7.6366e-02,\n",
            "        -4.6947e-02,  2.6237e-02, -3.8885e-03,  3.2848e-02,  7.5706e-02,\n",
            "        -8.7382e-02, -4.9638e-02,  2.8167e-02,  8.7923e-02, -3.4448e-02,\n",
            "        -9.5140e-03, -2.1243e-02,  1.5978e-01,  3.4457e-02, -3.3855e-02,\n",
            "        -5.6888e-02, -4.5094e-02,  5.0959e-04,  1.0320e-02, -8.1128e-03,\n",
            "         1.2503e-02, -4.7585e-02, -1.0716e-02, -2.7989e-02, -2.0523e-02,\n",
            "        -2.4482e-02,  3.9633e-02,  3.2350e-02, -2.2109e-03,  1.8820e-02,\n",
            "         6.1852e-03, -9.3783e-02,  4.1747e-02,  3.9579e-02,  1.8548e-02,\n",
            "        -4.7219e-02, -1.0910e-02, -4.8748e-02,  4.1495e-02,  1.2891e-02,\n",
            "         1.9179e-02, -2.3641e-02,  4.8100e-02, -6.4563e-02,  2.0011e-03,\n",
            "        -6.8279e-03,  2.7555e-02, -3.5432e-03,  1.7851e-02, -1.7370e-02,\n",
            "        -6.2537e-02, -4.1348e-02,  1.3102e-04,  6.5878e-02, -5.9742e-02,\n",
            "        -3.0261e-02, -1.0460e-02, -1.0089e-02,  1.0263e-01,  3.8337e-02,\n",
            "         4.4749e-02,  2.6631e-02,  4.5706e-03,  8.7271e-02, -4.4246e-08,\n",
            "         3.9508e-02, -8.1082e-02, -7.6765e-02,  4.2531e-02,  5.1059e-02,\n",
            "        -1.4671e-01,  1.2717e-02, -5.5427e-02,  3.1301e-02,  4.9927e-02,\n",
            "        -1.0501e-01,  5.5621e-02, -4.4806e-02,  6.2362e-02,  1.6252e-02,\n",
            "         8.6098e-02,  7.3299e-02, -1.7322e-02,  6.5207e-03,  9.0174e-02,\n",
            "         1.3125e-01,  1.4437e-02,  4.6999e-03, -5.7197e-02, -6.9764e-03,\n",
            "        -7.7560e-02, -3.4956e-02, -2.3269e-02,  2.2529e-02,  3.1172e-02,\n",
            "         2.4642e-02, -4.8667e-03, -2.6146e-02, -5.9895e-02, -7.9889e-02,\n",
            "         4.4293e-02, -4.0255e-02, -8.2995e-02, -3.7107e-05, -1.3981e-01,\n",
            "        -4.0377e-02, -1.2854e-02, -1.7609e-02, -1.5848e-02, -6.0375e-02,\n",
            "         4.3699e-02,  3.6742e-02,  8.0265e-03, -1.8667e-03,  4.8654e-02,\n",
            "        -3.5363e-02,  1.1077e-02,  6.5987e-02, -8.1596e-03,  5.4092e-02,\n",
            "        -4.9876e-02,  3.0247e-02,  1.7710e-02,  6.3495e-02,  4.3698e-02,\n",
            "        -5.2632e-02,  7.5077e-02, -1.8689e-02, -5.7995e-02])\n",
            "Embedding pour le passage 6 : tensor([ 3.1486e-02, -2.7413e-02,  1.2386e-02,  5.8790e-02, -8.9103e-02,\n",
            "        -3.8872e-02, -5.3123e-03, -1.5436e-02, -1.4722e-02, -1.0252e-01,\n",
            "         8.4313e-02,  4.4597e-03, -5.1886e-02,  7.1196e-02,  6.4394e-03,\n",
            "        -2.8082e-02,  1.2823e-01, -2.1073e-02,  1.9357e-02, -2.3981e-02,\n",
            "         4.1447e-02, -3.9836e-02, -1.0980e-02,  4.1094e-02,  2.3647e-02,\n",
            "         2.1398e-02, -1.6401e-02,  7.7106e-02, -1.9285e-02, -2.4831e-02,\n",
            "        -2.2078e-02,  7.5679e-02,  6.8007e-02,  9.6467e-03,  6.3665e-02,\n",
            "         3.9395e-02,  9.4011e-02, -3.9356e-02,  1.0001e-01,  1.9599e-02,\n",
            "         3.8357e-02, -4.1479e-02,  3.8171e-02,  4.0879e-02,  4.1230e-02,\n",
            "         1.7990e-02, -4.1615e-02,  6.5899e-02,  2.7137e-02, -1.5056e-02,\n",
            "        -7.1944e-02,  3.0820e-02,  1.8424e-02, -4.7997e-02, -3.3931e-02,\n",
            "         1.5379e-02, -3.4435e-03, -5.3261e-02, -5.4080e-02,  3.0081e-02,\n",
            "         1.2278e-02, -7.9401e-02,  2.1892e-02,  7.7671e-02, -3.8077e-02,\n",
            "         2.9245e-03, -1.1118e-01, -5.8549e-02, -7.3255e-02, -9.5637e-02,\n",
            "         1.6307e-02, -4.5536e-02,  6.7857e-02,  1.6021e-02, -1.7211e-02,\n",
            "        -4.9769e-02, -1.3622e-03,  1.2608e-02, -4.4408e-02,  1.6163e-02,\n",
            "         2.0390e-02, -6.4939e-02, -4.2628e-02,  4.4297e-02, -5.9882e-02,\n",
            "         5.4824e-02, -2.1448e-02,  1.4837e-02,  4.4226e-02, -1.5761e-02,\n",
            "        -1.5327e-02,  1.0024e-01, -7.8367e-02, -5.4221e-02,  3.3657e-02,\n",
            "        -5.4940e-02, -2.5379e-02,  4.6894e-02, -3.3543e-02,  1.9540e-02,\n",
            "        -7.6338e-03,  2.0528e-04,  8.2790e-02,  7.0002e-02,  9.6780e-03,\n",
            "        -3.0609e-02,  8.6134e-02,  1.7568e-02, -2.0949e-02,  1.4638e-02,\n",
            "        -4.3497e-02, -1.5655e-02, -2.0598e-02, -5.8819e-02, -3.1438e-02,\n",
            "        -3.9951e-02,  1.3816e-02,  2.1464e-02,  3.2010e-02, -1.5546e-02,\n",
            "        -6.3831e-03,  3.2686e-03, -3.9709e-02, -5.4793e-02, -1.4857e-01,\n",
            "         3.0214e-02, -2.6007e-02, -2.0051e-33, -2.7868e-02,  8.5992e-03,\n",
            "         2.8929e-02,  2.7082e-02,  5.7425e-02,  5.4962e-03, -7.7121e-03,\n",
            "         8.6193e-03, -5.1419e-02, -2.9565e-02, -3.1828e-03, -7.0375e-02,\n",
            "        -1.9151e-03, -2.5447e-02,  5.8421e-02,  2.9988e-02, -9.1587e-03,\n",
            "        -1.1541e-02,  3.9850e-02, -7.5086e-02, -1.3364e-02,  3.1778e-02,\n",
            "         4.4650e-02, -3.4068e-02, -9.7421e-02,  8.9920e-03, -3.1503e-02,\n",
            "        -2.1684e-03, -7.9543e-02, -2.6815e-02, -1.9839e-02,  2.8208e-02,\n",
            "        -4.1074e-02, -2.1776e-02, -4.7763e-02, -9.6644e-03,  4.5662e-03,\n",
            "        -4.7364e-02,  1.3582e-02,  7.3204e-03, -6.8992e-02,  1.0584e-01,\n",
            "        -2.2245e-02,  1.7467e-02, -1.4895e-02,  4.5965e-02, -5.4326e-02,\n",
            "         6.4749e-02,  6.4644e-02, -2.8842e-02, -1.6413e-02, -4.1507e-03,\n",
            "        -7.7691e-02,  6.8981e-02, -2.3974e-02,  4.8775e-02,  3.0102e-02,\n",
            "        -8.2269e-03,  3.2297e-03, -5.2518e-02,  6.3574e-03,  8.1932e-02,\n",
            "         3.8758e-03, -3.5465e-02,  6.2283e-02,  5.6970e-02,  6.1840e-02,\n",
            "         4.0805e-02,  3.9906e-02,  5.6287e-02,  1.4889e-02, -7.4346e-02,\n",
            "         1.3467e-02,  2.4514e-02,  3.2591e-02,  5.8037e-02, -1.4180e-02,\n",
            "        -3.3138e-02,  3.8384e-02, -3.9827e-02,  7.7348e-02,  2.1142e-02,\n",
            "         6.0286e-02,  7.4617e-02, -3.4289e-02,  8.1168e-02,  2.7116e-02,\n",
            "        -1.7859e-02,  5.1023e-04,  3.7256e-02, -8.5412e-02, -3.4758e-03,\n",
            "        -1.8930e-02,  2.8190e-02,  1.2631e-02,  5.4359e-34, -1.5912e-04,\n",
            "        -4.2622e-02,  3.2653e-03, -2.0639e-02, -1.2961e-01, -5.4047e-02,\n",
            "        -1.4019e-01, -2.4151e-02,  2.6046e-02,  7.8779e-02,  1.2619e-02,\n",
            "         7.5675e-03,  8.7761e-02,  2.1915e-02, -6.9529e-02,  1.4034e-01,\n",
            "         4.9042e-02,  2.0414e-02, -1.4425e-02,  2.6856e-02,  8.8613e-02,\n",
            "         1.5696e-02, -1.1752e-01,  5.7830e-03, -8.6176e-02,  4.1221e-02,\n",
            "         5.2457e-02,  5.2134e-02, -6.9049e-02, -1.2299e-01, -7.2378e-02,\n",
            "        -5.6458e-02,  5.6553e-02, -4.5820e-03,  6.4692e-02,  1.0535e-01,\n",
            "        -3.8415e-02, -9.6327e-02,  8.4485e-02,  3.4967e-02, -2.6897e-02,\n",
            "        -2.6471e-02,  2.9778e-02,  1.1988e-01,  5.8020e-02, -5.2203e-02,\n",
            "        -1.0797e-02, -2.6242e-02, -7.1017e-02, -5.5760e-02, -4.6182e-02,\n",
            "        -1.3282e-02, -8.4357e-02, -3.7919e-02, -1.8277e-02,  1.7651e-02,\n",
            "        -1.3633e-02,  5.0549e-02, -5.1832e-02, -1.0146e-01,  9.1154e-03,\n",
            "         6.2455e-04, -3.8030e-02,  7.9935e-02,  5.2928e-03, -4.6735e-02,\n",
            "        -1.3186e-02, -3.0606e-02, -2.5146e-02,  3.5056e-02, -2.1266e-02,\n",
            "         6.6545e-02, -9.2864e-03,  1.7174e-02, -7.9491e-02,  1.6748e-02,\n",
            "        -7.5737e-03,  3.9697e-03, -1.8090e-02,  7.0573e-02,  4.9242e-02,\n",
            "         1.3766e-04, -9.2122e-02, -1.6470e-03,  7.0834e-02,  9.9148e-03,\n",
            "         8.7001e-02, -1.3097e-02, -7.6136e-03,  1.0690e-01,  6.2697e-03,\n",
            "         1.2935e-01, -3.4150e-02, -6.2222e-02, -4.9584e-02, -2.1568e-08,\n",
            "         5.4670e-02, -6.1167e-02,  3.7434e-03,  9.7946e-02,  1.0629e-02,\n",
            "        -4.6476e-02, -8.4681e-02, -3.7594e-02,  5.0366e-02,  2.7377e-02,\n",
            "        -8.6453e-02,  2.0963e-02, -1.1650e-02,  2.6550e-02, -2.9450e-02,\n",
            "         4.7565e-02,  3.4002e-02, -4.3650e-02,  5.6876e-02,  2.6520e-02,\n",
            "         5.0083e-02,  5.2304e-02,  8.0666e-02, -6.5462e-02, -1.2770e-02,\n",
            "        -9.9914e-02,  1.3345e-03, -1.8204e-02, -2.5984e-02, -1.8032e-02,\n",
            "         5.8896e-02, -1.6896e-02,  3.0553e-02, -2.3161e-02, -2.4701e-02,\n",
            "         7.2993e-02, -8.9582e-02, -2.3612e-02, -1.7120e-02, -1.8178e-01,\n",
            "        -2.7879e-02, -5.6479e-02, -5.9124e-02,  2.3115e-02, -1.4953e-02,\n",
            "         4.3894e-02,  1.1438e-02, -5.0985e-02,  3.2410e-03,  7.3677e-03,\n",
            "        -8.6962e-02, -3.8296e-03,  7.1862e-02, -3.6160e-02,  1.7485e-02,\n",
            "         3.8392e-02,  3.3485e-03,  6.9917e-02,  7.9800e-02,  6.2122e-02,\n",
            "        -5.8633e-03,  3.3694e-02, -3.6569e-02,  1.6929e-02])\n"
          ]
        },
        {
          "output_type": "stream",
          "name": "stderr",
          "text": [
            "\n"
          ]
        }
      ],
      "source": [
        "from sentence_transformers import SentenceTransformer\n",
        "from sentence_transformers.util import cos_sim\n",
        "from tqdm import tqdm\n",
        "\n",
        "\n",
        "from sentence_transformers import SentenceTransformer\n",
        "from sentence_transformers.util import cos_sim\n",
        "from tqdm import tqdm\n",
        "\n",
        "# Charger un modèle public de sentence-transformers\n",
        "model = SentenceTransformer('sentence-transformers/all-MiniLM-L6-v2')\n",
        "\n",
        "# Exemple de passages à embedder\n",
        "passages = [\"New York is known to be the largest Italian-American population in North America and third largest Italian population outside of Italy, according to the 2000 census. See also Italians in New York City for more info.\",\n",
        "                \"Graziano is perhaps the best place in NYC to eat quality fresh pasta, or enjoy a Neapolitan-style pizza.\",\n",
        "                \"The Italian wolf is the national animal of Italy,[159] while the national tree is the strawberry tree.[160] The reasons for this are that the Italian wolf, which inhabits the Apennine Mountains and the Western Alps, features prominently in Latin and Italian cultures, such as the legend of the founding of Rome,[161] while the green leaves, white flowers and red berries of the strawberry tree, native to the Mediterranean, recall the colours of the flag.[160]\",\n",
        "                \"Italian cuisine has a great variety of different ingredients which are commonly used, ranging from fruits and vegetables to grains to cheeses, meats, and fish. In northern Italy, fish (such as cod, or baccalà), potatoes, rice, corn (maize), sausages, pork, and different types of cheese are the most common ingredients.\",\n",
        "                \"A strange italian restaurant. After a long day at work in his New York City office, he wanted to enjoy delicious italian food at the newly opened La Casa di Pasta. But it was actually a nursery, specializing in Italian-themed plants and decorations, with no food in sight. No italian food today, left feeling hungry and deceived, wishing the beautiful garden center had actually been the restaurant of his dreams.\",\n",
        "               \"New York City : A brand new italian restaurant, Italian #1, just opened in little Italy.\"\n",
        "                ]\n",
        "\n",
        "# Calculer les embeddings des passages\n",
        "embeddings = [model.encode(passage, convert_to_tensor=True) for passage in tqdm(passages)]\n",
        "\n",
        "# Afficher les embeddings\n",
        "for i, embedding in enumerate(embeddings):\n",
        "    print(f\"Embedding pour le passage {i+1} : {embedding}\")\n",
        "\n"
      ]
    },
    {
      "cell_type": "code",
      "execution_count": null,
      "metadata": {
        "id": "RHNuOUQRda__",
        "colab": {
          "base_uri": "https://localhost:8080/"
        },
        "outputId": "760fd061-8178-4af7-ded7-56c563e05d1f"
      },
      "outputs": [
        {
          "output_type": "stream",
          "name": "stdout",
          "text": [
            "[tensor([[-0.0481]]), tensor([[0.1029]]), tensor([[0.0831]]), tensor([[-0.0890]]), tensor([[0.2301]]), tensor([[0.1139]])]\n"
          ]
        }
      ],
      "source": [
        "# TODO : Calculer l'embedding de la requête\n",
        "requête = \"beautiful today\"\n",
        "\n",
        "embedding_requete = model.encode(requête, convert_to_tensor = True)\n",
        "\n",
        "# TODO : Calculer les scores\n",
        "\n",
        "similarity = [cos_sim(embedding_requete, embedding) for embedding in embeddings]\n",
        "\n",
        "# TODO : Calculer les scores\n",
        "print(similarity)"
      ]
    },
    {
      "cell_type": "code",
      "execution_count": null,
      "metadata": {
        "id": "ZgZG9bvdizr7",
        "colab": {
          "base_uri": "https://localhost:8080/"
        },
        "outputId": "c0430b83-9923-40b5-b7ea-e39f9b8c02df"
      },
      "outputs": [
        {
          "output_type": "stream",
          "name": "stdout",
          "text": [
            "[4, 5, 2, 3, 1, 0]\n"
          ]
        }
      ],
      "source": [
        "# Liste originale\n",
        "my_list = similarity\n",
        "\n",
        "# Trier les indices selon les valeurs dans my_list en ordre décroissant\n",
        "sorted_indices = sorted(range(len(my_list)), key=lambda k: my_list[k], reverse=True)\n",
        "\n",
        "print(sorted_indices)\n"
      ]
    },
    {
      "cell_type": "markdown",
      "metadata": {
        "id": "t_7efmTOjQgp"
      },
      "source": [
        "## Modèle spécalisé"
      ]
    },
    {
      "cell_type": "markdown",
      "metadata": {
        "id": "tXH7J6MUJJ35"
      },
      "source": [
        "Au lieu de calculer un score de similarité sur des embeddings, on peut utiliser un modèle qui prend directement en entrée un passage et la requête et qui calcule un score. Il existe en effet des réseaux de neuronnes spécialisés dans cette tâche.\n",
        "\n",
        "Vous pouvez par exemple utiliser le modèle 'BAAI/bge-reranker-large' : https://huggingface.co/BAAI/bge-reranker-large"
      ]
    },
    {
      "cell_type": "code",
      "execution_count": null,
      "metadata": {
        "id": "AwJBDTm1jS4G",
        "colab": {
          "base_uri": "https://localhost:8080/",
          "height": 1000
        },
        "outputId": "591ae661-ed63-48f9-b428-a2784dad2e40"
      },
      "outputs": [
        {
          "output_type": "stream",
          "name": "stdout",
          "text": [
            "Collecting FlagEmbedding\n",
            "  Downloading FlagEmbedding-1.2.10.tar.gz (141 kB)\n",
            "\u001b[2K     \u001b[90m━━━━━━━━━━━━━━━━━━━━━━━━━━━━━━━━━━━━━━━━\u001b[0m \u001b[32m141.3/141.3 kB\u001b[0m \u001b[31m3.9 MB/s\u001b[0m eta \u001b[36m0:00:00\u001b[0m\n",
            "\u001b[?25h  Preparing metadata (setup.py) ... \u001b[?25l\u001b[?25hdone\n",
            "Requirement already satisfied: torch>=1.6.0 in /usr/local/lib/python3.10/dist-packages (from FlagEmbedding) (2.3.0+cu121)\n",
            "Requirement already satisfied: transformers>=4.33.0 in /usr/local/lib/python3.10/dist-packages (from FlagEmbedding) (4.41.1)\n",
            "Collecting datasets (from FlagEmbedding)\n",
            "  Downloading datasets-2.19.2-py3-none-any.whl (542 kB)\n",
            "\u001b[2K     \u001b[90m━━━━━━━━━━━━━━━━━━━━━━━━━━━━━━━━━━━━━━━━\u001b[0m \u001b[32m542.1/542.1 kB\u001b[0m \u001b[31m19.5 MB/s\u001b[0m eta \u001b[36m0:00:00\u001b[0m\n",
            "\u001b[?25hCollecting accelerate>=0.20.1 (from FlagEmbedding)\n",
            "  Downloading accelerate-0.30.1-py3-none-any.whl (302 kB)\n",
            "\u001b[2K     \u001b[90m━━━━━━━━━━━━━━━━━━━━━━━━━━━━━━━━━━━━━━━━\u001b[0m \u001b[32m302.6/302.6 kB\u001b[0m \u001b[31m19.9 MB/s\u001b[0m eta \u001b[36m0:00:00\u001b[0m\n",
            "\u001b[?25hRequirement already satisfied: sentence_transformers in /usr/local/lib/python3.10/dist-packages (from FlagEmbedding) (3.0.0)\n",
            "Requirement already satisfied: numpy>=1.17 in /usr/local/lib/python3.10/dist-packages (from accelerate>=0.20.1->FlagEmbedding) (1.25.2)\n",
            "Requirement already satisfied: packaging>=20.0 in /usr/local/lib/python3.10/dist-packages (from accelerate>=0.20.1->FlagEmbedding) (24.0)\n",
            "Requirement already satisfied: psutil in /usr/local/lib/python3.10/dist-packages (from accelerate>=0.20.1->FlagEmbedding) (5.9.5)\n",
            "Requirement already satisfied: pyyaml in /usr/local/lib/python3.10/dist-packages (from accelerate>=0.20.1->FlagEmbedding) (6.0.1)\n",
            "Requirement already satisfied: huggingface-hub in /usr/local/lib/python3.10/dist-packages (from accelerate>=0.20.1->FlagEmbedding) (0.23.1)\n",
            "Requirement already satisfied: safetensors>=0.3.1 in /usr/local/lib/python3.10/dist-packages (from accelerate>=0.20.1->FlagEmbedding) (0.4.3)\n",
            "Requirement already satisfied: filelock in /usr/local/lib/python3.10/dist-packages (from torch>=1.6.0->FlagEmbedding) (3.14.0)\n",
            "Requirement already satisfied: typing-extensions>=4.8.0 in /usr/local/lib/python3.10/dist-packages (from torch>=1.6.0->FlagEmbedding) (4.11.0)\n",
            "Requirement already satisfied: sympy in /usr/local/lib/python3.10/dist-packages (from torch>=1.6.0->FlagEmbedding) (1.12)\n",
            "Requirement already satisfied: networkx in /usr/local/lib/python3.10/dist-packages (from torch>=1.6.0->FlagEmbedding) (3.3)\n",
            "Requirement already satisfied: jinja2 in /usr/local/lib/python3.10/dist-packages (from torch>=1.6.0->FlagEmbedding) (3.1.4)\n",
            "Requirement already satisfied: fsspec in /usr/local/lib/python3.10/dist-packages (from torch>=1.6.0->FlagEmbedding) (2023.6.0)\n",
            "Requirement already satisfied: nvidia-cuda-nvrtc-cu12==12.1.105 in /usr/local/lib/python3.10/dist-packages (from torch>=1.6.0->FlagEmbedding) (12.1.105)\n",
            "Requirement already satisfied: nvidia-cuda-runtime-cu12==12.1.105 in /usr/local/lib/python3.10/dist-packages (from torch>=1.6.0->FlagEmbedding) (12.1.105)\n",
            "Requirement already satisfied: nvidia-cuda-cupti-cu12==12.1.105 in /usr/local/lib/python3.10/dist-packages (from torch>=1.6.0->FlagEmbedding) (12.1.105)\n",
            "Requirement already satisfied: nvidia-cudnn-cu12==8.9.2.26 in /usr/local/lib/python3.10/dist-packages (from torch>=1.6.0->FlagEmbedding) (8.9.2.26)\n",
            "Requirement already satisfied: nvidia-cublas-cu12==12.1.3.1 in /usr/local/lib/python3.10/dist-packages (from torch>=1.6.0->FlagEmbedding) (12.1.3.1)\n",
            "Requirement already satisfied: nvidia-cufft-cu12==11.0.2.54 in /usr/local/lib/python3.10/dist-packages (from torch>=1.6.0->FlagEmbedding) (11.0.2.54)\n",
            "Requirement already satisfied: nvidia-curand-cu12==10.3.2.106 in /usr/local/lib/python3.10/dist-packages (from torch>=1.6.0->FlagEmbedding) (10.3.2.106)\n",
            "Requirement already satisfied: nvidia-cusolver-cu12==11.4.5.107 in /usr/local/lib/python3.10/dist-packages (from torch>=1.6.0->FlagEmbedding) (11.4.5.107)\n",
            "Requirement already satisfied: nvidia-cusparse-cu12==12.1.0.106 in /usr/local/lib/python3.10/dist-packages (from torch>=1.6.0->FlagEmbedding) (12.1.0.106)\n",
            "Requirement already satisfied: nvidia-nccl-cu12==2.20.5 in /usr/local/lib/python3.10/dist-packages (from torch>=1.6.0->FlagEmbedding) (2.20.5)\n",
            "Requirement already satisfied: nvidia-nvtx-cu12==12.1.105 in /usr/local/lib/python3.10/dist-packages (from torch>=1.6.0->FlagEmbedding) (12.1.105)\n",
            "Requirement already satisfied: triton==2.3.0 in /usr/local/lib/python3.10/dist-packages (from torch>=1.6.0->FlagEmbedding) (2.3.0)\n",
            "Requirement already satisfied: nvidia-nvjitlink-cu12 in /usr/local/lib/python3.10/dist-packages (from nvidia-cusolver-cu12==11.4.5.107->torch>=1.6.0->FlagEmbedding) (12.5.40)\n",
            "Requirement already satisfied: regex!=2019.12.17 in /usr/local/lib/python3.10/dist-packages (from transformers>=4.33.0->FlagEmbedding) (2024.5.15)\n",
            "Requirement already satisfied: requests in /usr/local/lib/python3.10/dist-packages (from transformers>=4.33.0->FlagEmbedding) (2.31.0)\n",
            "Requirement already satisfied: tokenizers<0.20,>=0.19 in /usr/local/lib/python3.10/dist-packages (from transformers>=4.33.0->FlagEmbedding) (0.19.1)\n",
            "Requirement already satisfied: tqdm>=4.27 in /usr/local/lib/python3.10/dist-packages (from transformers>=4.33.0->FlagEmbedding) (4.66.4)\n",
            "Requirement already satisfied: pyarrow>=12.0.0 in /usr/local/lib/python3.10/dist-packages (from datasets->FlagEmbedding) (14.0.2)\n",
            "Requirement already satisfied: pyarrow-hotfix in /usr/local/lib/python3.10/dist-packages (from datasets->FlagEmbedding) (0.6)\n",
            "Collecting dill<0.3.9,>=0.3.0 (from datasets->FlagEmbedding)\n",
            "  Downloading dill-0.3.8-py3-none-any.whl (116 kB)\n",
            "\u001b[2K     \u001b[90m━━━━━━━━━━━━━━━━━━━━━━━━━━━━━━━━━━━━━━━━\u001b[0m \u001b[32m116.3/116.3 kB\u001b[0m \u001b[31m8.5 MB/s\u001b[0m eta \u001b[36m0:00:00\u001b[0m\n",
            "\u001b[?25hRequirement already satisfied: pandas in /usr/local/lib/python3.10/dist-packages (from datasets->FlagEmbedding) (2.0.3)\n",
            "Collecting requests (from transformers>=4.33.0->FlagEmbedding)\n",
            "  Downloading requests-2.32.3-py3-none-any.whl (64 kB)\n",
            "\u001b[2K     \u001b[90m━━━━━━━━━━━━━━━━━━━━━━━━━━━━━━━━━━━━━━━━\u001b[0m \u001b[32m64.9/64.9 kB\u001b[0m \u001b[31m5.5 MB/s\u001b[0m eta \u001b[36m0:00:00\u001b[0m\n",
            "\u001b[?25hCollecting xxhash (from datasets->FlagEmbedding)\n",
            "  Downloading xxhash-3.4.1-cp310-cp310-manylinux_2_17_x86_64.manylinux2014_x86_64.whl (194 kB)\n",
            "\u001b[2K     \u001b[90m━━━━━━━━━━━━━━━━━━━━━━━━━━━━━━━━━━━━━━━━\u001b[0m \u001b[32m194.1/194.1 kB\u001b[0m \u001b[31m19.1 MB/s\u001b[0m eta \u001b[36m0:00:00\u001b[0m\n",
            "\u001b[?25hCollecting multiprocess (from datasets->FlagEmbedding)\n",
            "  Downloading multiprocess-0.70.16-py310-none-any.whl (134 kB)\n",
            "\u001b[2K     \u001b[90m━━━━━━━━━━━━━━━━━━━━━━━━━━━━━━━━━━━━━━━━\u001b[0m \u001b[32m134.8/134.8 kB\u001b[0m \u001b[31m15.3 MB/s\u001b[0m eta \u001b[36m0:00:00\u001b[0m\n",
            "\u001b[?25hRequirement already satisfied: aiohttp in /usr/local/lib/python3.10/dist-packages (from datasets->FlagEmbedding) (3.9.5)\n",
            "Requirement already satisfied: scikit-learn in /usr/local/lib/python3.10/dist-packages (from sentence_transformers->FlagEmbedding) (1.2.2)\n",
            "Requirement already satisfied: scipy in /usr/local/lib/python3.10/dist-packages (from sentence_transformers->FlagEmbedding) (1.11.4)\n",
            "Requirement already satisfied: Pillow in /usr/local/lib/python3.10/dist-packages (from sentence_transformers->FlagEmbedding) (9.4.0)\n",
            "Requirement already satisfied: aiosignal>=1.1.2 in /usr/local/lib/python3.10/dist-packages (from aiohttp->datasets->FlagEmbedding) (1.3.1)\n",
            "Requirement already satisfied: attrs>=17.3.0 in /usr/local/lib/python3.10/dist-packages (from aiohttp->datasets->FlagEmbedding) (23.2.0)\n",
            "Requirement already satisfied: frozenlist>=1.1.1 in /usr/local/lib/python3.10/dist-packages (from aiohttp->datasets->FlagEmbedding) (1.4.1)\n",
            "Requirement already satisfied: multidict<7.0,>=4.5 in /usr/local/lib/python3.10/dist-packages (from aiohttp->datasets->FlagEmbedding) (6.0.5)\n",
            "Requirement already satisfied: yarl<2.0,>=1.0 in /usr/local/lib/python3.10/dist-packages (from aiohttp->datasets->FlagEmbedding) (1.9.4)\n",
            "Requirement already satisfied: async-timeout<5.0,>=4.0 in /usr/local/lib/python3.10/dist-packages (from aiohttp->datasets->FlagEmbedding) (4.0.3)\n",
            "Requirement already satisfied: charset-normalizer<4,>=2 in /usr/local/lib/python3.10/dist-packages (from requests->transformers>=4.33.0->FlagEmbedding) (3.3.2)\n",
            "Requirement already satisfied: idna<4,>=2.5 in /usr/local/lib/python3.10/dist-packages (from requests->transformers>=4.33.0->FlagEmbedding) (3.7)\n",
            "Requirement already satisfied: urllib3<3,>=1.21.1 in /usr/local/lib/python3.10/dist-packages (from requests->transformers>=4.33.0->FlagEmbedding) (2.0.7)\n",
            "Requirement already satisfied: certifi>=2017.4.17 in /usr/local/lib/python3.10/dist-packages (from requests->transformers>=4.33.0->FlagEmbedding) (2024.2.2)\n",
            "Requirement already satisfied: MarkupSafe>=2.0 in /usr/local/lib/python3.10/dist-packages (from jinja2->torch>=1.6.0->FlagEmbedding) (2.1.5)\n",
            "Requirement already satisfied: python-dateutil>=2.8.2 in /usr/local/lib/python3.10/dist-packages (from pandas->datasets->FlagEmbedding) (2.8.2)\n",
            "Requirement already satisfied: pytz>=2020.1 in /usr/local/lib/python3.10/dist-packages (from pandas->datasets->FlagEmbedding) (2023.4)\n",
            "Requirement already satisfied: tzdata>=2022.1 in /usr/local/lib/python3.10/dist-packages (from pandas->datasets->FlagEmbedding) (2024.1)\n",
            "Requirement already satisfied: joblib>=1.1.1 in /usr/local/lib/python3.10/dist-packages (from scikit-learn->sentence_transformers->FlagEmbedding) (1.4.2)\n",
            "Requirement already satisfied: threadpoolctl>=2.0.0 in /usr/local/lib/python3.10/dist-packages (from scikit-learn->sentence_transformers->FlagEmbedding) (3.5.0)\n",
            "Requirement already satisfied: mpmath>=0.19 in /usr/local/lib/python3.10/dist-packages (from sympy->torch>=1.6.0->FlagEmbedding) (1.3.0)\n",
            "Requirement already satisfied: six>=1.5 in /usr/local/lib/python3.10/dist-packages (from python-dateutil>=2.8.2->pandas->datasets->FlagEmbedding) (1.16.0)\n",
            "Building wheels for collected packages: FlagEmbedding\n",
            "  Building wheel for FlagEmbedding (setup.py) ... \u001b[?25l\u001b[?25hdone\n",
            "  Created wheel for FlagEmbedding: filename=FlagEmbedding-1.2.10-py3-none-any.whl size=166100 sha256=ca6f18fd1fb323c394c0167e72caa2000768e874a5089fe59dbcf9cbad44a27c\n",
            "  Stored in directory: /root/.cache/pip/wheels/3b/1d/d2/eec38cd59144f4c9767d7c55cfae8e8feec699071aa41ca5da\n",
            "Successfully built FlagEmbedding\n",
            "Installing collected packages: xxhash, requests, dill, multiprocess, datasets, accelerate, FlagEmbedding\n",
            "  Attempting uninstall: requests\n",
            "    Found existing installation: requests 2.31.0\n",
            "    Uninstalling requests-2.31.0:\n",
            "      Successfully uninstalled requests-2.31.0\n",
            "\u001b[31mERROR: pip's dependency resolver does not currently take into account all the packages that are installed. This behaviour is the source of the following dependency conflicts.\n",
            "google-colab 1.0.0 requires requests==2.31.0, but you have requests 2.32.3 which is incompatible.\u001b[0m\u001b[31m\n",
            "\u001b[0mSuccessfully installed FlagEmbedding-1.2.10 accelerate-0.30.1 datasets-2.19.2 dill-0.3.8 multiprocess-0.70.16 requests-2.32.3 xxhash-3.4.1\n"
          ]
        },
        {
          "output_type": "display_data",
          "data": {
            "application/vnd.colab-display-data+json": {
              "pip_warning": {
                "packages": [
                  "requests"
                ]
              },
              "id": "5b75402cdac5426eb5d603f7f313417e"
            }
          },
          "metadata": {}
        }
      ],
      "source": [
        "!pip install FlagEmbedding"
      ]
    },
    {
      "cell_type": "code",
      "execution_count": null,
      "metadata": {
        "id": "x1hvpu9mjR-I"
      },
      "outputs": [],
      "source": [
        "from FlagEmbedding import FlagModel\n",
        "# TODO : charge le modèle\n",
        "#model_name = \"BAAI/bge-reranker-large\"\n",
        "model = FlagModel('BAAI/bge-large-zh-v1.5',\n",
        "                  use_fp16=True)\n",
        "# TODO : Calculer les scores et les ajouter au dictionnaire des scores\n",
        "# Supposons que passages est une liste de chaînes de caractères contenant vos passages\n",
        "\n",
        "# Calculer les scores pour chaque passage\n",
        "passages = [\n",
        "    \"Le chat est sur le canapé.\",\n",
        "    \"Il fait beau aujourd'hui.\",\n",
        "    \"L'intelligence artificielle transforme le monde.\"\n",
        "]\n",
        "scores = {}\n",
        "\n",
        "for passage in passages:\n",
        "    # Récupérer les scores\n",
        "    embedding1 = model.encode(\"aujourd'hui\")\n",
        "    embedding2 = model.encode(passage)\n",
        "    score = embedding1 @ embedding2\n",
        "    # Ajouter le score au dictionnaire des scores\n",
        "    scores[passage] = score\n",
        "\n",
        "# Afficher les scores\n",
        "print(scores)\n",
        "# TODO : Calculer les scores et les ajouter au dictionnaire des scores\n"
      ]
    },
    {
      "cell_type": "code",
      "execution_count": null,
      "metadata": {
        "id": "5Nd5v6Qyq5rt"
      },
      "outputs": [],
      "source": [
        "# Trie les phrases selon le score calculé et affiche les meilleurs passages.\n",
        "passages_tries = sorted(scores.items(), key=lambda x: x[1], reverse=True)\n",
        "print(passages_tries)"
      ]
    },
    {
      "cell_type": "markdown",
      "metadata": {
        "id": "ONBhMBDgtZb6"
      },
      "source": [
        "## Analyse des résultas"
      ]
    },
    {
      "cell_type": "markdown",
      "metadata": {
        "id": "R3mPmpyBuPml"
      },
      "source": [
        "### Représenter sous la forme de bar plot les scores des extraits pour les deux méthodes (dense embedding + cosine similarity et modèle reranker)"
      ]
    },
    {
      "cell_type": "code",
      "execution_count": 35,
      "metadata": {
        "id": "-wCRTfUms7FL",
        "colab": {
          "base_uri": "https://localhost:8080/",
          "height": 430
        },
        "outputId": "eb035d54-09de-41ba-a893-f1c7452a7548"
      },
      "outputs": [
        {
          "output_type": "display_data",
          "data": {
            "text/plain": [
              "<Figure size 640x480 with 1 Axes>"
            ],
            "image/png": "[encoded data removed]"
          },
          "metadata": {}
        }
      ],
      "source": [
        "import matplotlib.pyplot as plt\n",
        "import torch\n",
        "\n",
        "absc = [i for i in range(len(passages))]\n",
        "plt.clf()\n",
        "values = [t.item() for t in similarity]\n",
        "plt.plot(absc, values)\n",
        "plt.plot(absc, [res_scores[i]['tfidf_score'] for i in range(len(passages))])\n",
        "plt.show()\n",
        "\n",
        "# TODO"
      ]
    },
    {
      "cell_type": "markdown",
      "metadata": {
        "id": "GUrZoXFevk99"
      },
      "source": [
        "\n",
        "\n",
        "\n",
        "\n",
        "*   Quelle est la différence fondamentale dans l'utilisation, en pratique, des deux méthodes précédentes?\n",
        "*   En examinant les deux modèles précédents, lequel devrait être en principe donner les meilleurs résultats et pourquoi?\n",
        "*   Finalement, quels sont les intérêts d'avoir à disposition ces deux modèles et en quoi peuvent-ils être complémentaires?\n",
        "*   Expliquez pourquoi le dernier modèle est appelé \"reranker\".\n"
      ]
    },
    {
      "cell_type": "markdown",
      "metadata": {
        "id": "_yBwAMkd-k2s"
      },
      "source": [
        "Réponses : TODO"
      ]
    },
    {
      "cell_type": "markdown",
      "metadata": {
        "id": "_3WdPTJP1Kkn"
      },
      "source": [
        "## Bonus"
      ]
    },
    {
      "cell_type": "markdown",
      "metadata": {
        "id": "hr73GOyS1N4f"
      },
      "source": [
        "### BM25"
      ]
    },
    {
      "cell_type": "markdown",
      "metadata": {
        "id": "PYYO-DWZ4psR"
      },
      "source": [
        "\n",
        "\n",
        "*   BM25 est-elle une méthode sparse/BOW ou bien dense?\n",
        "*   Quels sont les avantages de BM25 par rapport à d'autres méthodes du même type?\n",
        "*   Implémenter l'algorithme BM25.\n",
        "\n",
        "\n"
      ]
    },
    {
      "cell_type": "code",
      "execution_count": null,
      "metadata": {
        "id": "4dTH1wr41MQ7"
      },
      "outputs": [],
      "source": [
        "def BM25(text_chunks,query):\n",
        "  return"
      ]
    },
    {
      "cell_type": "markdown",
      "metadata": {
        "id": "eePC5Yhd1TAJ"
      },
      "source": [
        "### word2vec"
      ]
    },
    {
      "cell_type": "markdown",
      "metadata": {
        "id": "BoQNiMqiOReD"
      },
      "source": [
        "\n",
        "*   word2vec est-elle une méthode sparse/BOW ou bien dense?\n",
        "*   Quels sont les avantages de word2vec par rapport à d'autres méthodes du même type?\n",
        "*   Tester l'algorithme word2vec."
      ]
    },
    {
      "cell_type": "code",
      "execution_count": null,
      "metadata": {
        "id": "2hl-wl0r1iSd"
      },
      "outputs": [],
      "source": []
    },
    {
      "cell_type": "markdown",
      "metadata": {
        "id": "43DD7Pjf1jbc"
      },
      "source": [
        "### BERT Encoder"
      ]
    },
    {
      "cell_type": "markdown",
      "metadata": {
        "id": "GgKd8cq0OYHp"
      },
      "source": [
        "\n",
        "*   Utiliser un encodeur BERT correspond à une méthode sparse/BOW ou bien dense?\n",
        "*   Quels sont les avantages de BERT par rapport à d'autres méthodes du même type?\n",
        "*   Tester le modèle BERT."
      ]
    },
    {
      "cell_type": "code",
      "execution_count": null,
      "metadata": {
        "id": "d0nedsBo1kG1"
      },
      "outputs": [],
      "source": []
    }
  ],
  "metadata": {
    "colab": {
      "provenance": []
    },
    "kernelspec": {
      "display_name": "Python 3",
      "name": "python3"
    },
    "language_info": {
      "name": "python"
    }
  },
  "nbformat": 4,
  "nbformat_minor": 0
}